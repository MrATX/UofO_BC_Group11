{
 "cells": [
  {
   "cell_type": "code",
   "execution_count": 44,
   "metadata": {},
   "outputs": [],
   "source": [
    "import matplotlib.pyplot as plt\n",
    "import pandas as pd\n",
    "import numpy as np\n",
    "import plotly.graph_objects as go\n",
    "import scipy.stats as st\n",
    "from matplotlib.pyplot import figure\n",
    "from scipy.stats import linregress"
   ]
  },
  {
   "cell_type": "code",
   "execution_count": 33,
   "metadata": {},
   "outputs": [],
   "source": [
    "vbm_states = [\"Oregon\",\"Washington\",\"Colorado\",\"Utah\",\"Hawaii\"]\n",
    "years = []\n",
    "for i in range(1980,2017,2):\n",
    "    years.append(i)\n",
    "file = \"voter_data.csv\"\n",
    "voter_data = pd.read_csv(file)\n",
    "#Oregon Averages\n",
    "or_slice = voter_data.loc[(voter_data[\"State\"]==\"Oregon\") &\n",
    "                          (voter_data[\"Year\"] < 1998),:]\n",
    "or_bef = round(or_slice[\"VEP Total Ballots Counted\"].mean(),2)\n",
    "or_slice = voter_data.loc[(voter_data[\"State\"]==\"Oregon\") &\n",
    "                          (voter_data[\"Year\"] > 1998),:]\n",
    "or_aft = round(or_slice[\"VEP Total Ballots Counted\"].mean(),2)\n",
    "or_mean = round(voter_data.loc[voter_data[\"State\"]==\"Oregon\",\"VEP Total Ballots Counted\"].mean(),2)\n",
    "or_del = round(float(voter_data.loc[(voter_data[\"State\"]==\"Oregon\") &\n",
    "                              (voter_data[\"Year\"]==2016),\"VEP Total Ballots Counted\"]) - float(\n",
    "    voter_data.loc[(voter_data[\"State\"]==\"Oregon\") &\n",
    "                              (voter_data[\"Year\"]==1980),\"VEP Total Ballots Counted\"]),2)\n",
    "#Washington Averages\n",
    "wa_slice = voter_data.loc[(voter_data[\"State\"]==\"Washington\") &\n",
    "                          (voter_data[\"Year\"] < 2005),:]\n",
    "wa_bef = round(wa_slice[\"VEP Total Ballots Counted\"].mean(),2)\n",
    "wa_slice = voter_data.loc[(voter_data[\"State\"]==\"Washington\") &\n",
    "                          (voter_data[\"Year\"] > 2005),:]\n",
    "wa_aft = round(wa_slice[\"VEP Total Ballots Counted\"].mean(),2)\n",
    "wa_mean = round(voter_data.loc[voter_data[\"State\"]==\"Washington\",\"VEP Total Ballots Counted\"].mean(),2)\n",
    "wa_del = round(float(voter_data.loc[(voter_data[\"State\"]==\"Washington\") &\n",
    "                              (voter_data[\"Year\"]==2016),\"VEP Total Ballots Counted\"]) - float(\n",
    "    voter_data.loc[(voter_data[\"State\"]==\"Washington\") &\n",
    "                              (voter_data[\"Year\"]==1980),\"VEP Total Ballots Counted\"]),2)\n",
    "#Colorado Averages\n",
    "co_slice = voter_data.loc[(voter_data[\"State\"]==\"Colorado\") &\n",
    "                          (voter_data[\"Year\"] < 2013),:]\n",
    "co_bef = round(co_slice[\"VEP Total Ballots Counted\"].mean(),2)\n",
    "co_slice = voter_data.loc[(voter_data[\"State\"]==\"Colorado\") &\n",
    "                          (voter_data[\"Year\"] > 2013),:]\n",
    "co_aft = round(co_slice[\"VEP Total Ballots Counted\"].mean(),2)\n",
    "co_mean = round(voter_data.loc[voter_data[\"State\"]==\"Colorado\",\"VEP Total Ballots Counted\"].mean(),2)\n",
    "co_del = round(float(voter_data.loc[(voter_data[\"State\"]==\"Colorado\") &\n",
    "                              (voter_data[\"Year\"]==2016),\"VEP Total Ballots Counted\"]) - float(\n",
    "    voter_data.loc[(voter_data[\"State\"]==\"Colorado\") &\n",
    "                              (voter_data[\"Year\"]==1980),\"VEP Total Ballots Counted\"]),2)\n",
    "#Utah Averages\n",
    "ut_slice = voter_data.loc[(voter_data[\"State\"]==\"Utah\") &\n",
    "                          (voter_data[\"Year\"] < 2013),:]\n",
    "ut_bef = round(ut_slice[\"VEP Total Ballots Counted\"].mean(),2)\n",
    "ut_slice = voter_data.loc[(voter_data[\"State\"]==\"Utah\") &\n",
    "                          (voter_data[\"Year\"] > 2013),:]\n",
    "ut_aft = round(ut_slice[\"VEP Total Ballots Counted\"].mean(),2)\n",
    "ut_mean = round(voter_data.loc[voter_data[\"State\"]==\"Utah\",\"VEP Total Ballots Counted\"].mean(),2)\n",
    "ut_del = round(float(voter_data.loc[(voter_data[\"State\"]==\"Utah\") &\n",
    "                              (voter_data[\"Year\"]==2016),\"VEP Total Ballots Counted\"]) - float(\n",
    "    voter_data.loc[(voter_data[\"State\"]==\"Utah\") &\n",
    "                              (voter_data[\"Year\"]==1980),\"VEP Total Ballots Counted\"]),2)\n",
    "#Hawaii Averages\n",
    "hi_mean = round(voter_data.loc[voter_data[\"State\"]==\"Hawaii\",\"VEP Total Ballots Counted\"].mean(),2)\n",
    "hi_del = round(float(voter_data.loc[(voter_data[\"State\"]==\"Hawaii\") &\n",
    "                              (voter_data[\"Year\"]==2016),\"VEP Total Ballots Counted\"]) - float(\n",
    "    voter_data.loc[(voter_data[\"State\"]==\"Hawaii\") &\n",
    "                              (voter_data[\"Year\"]==1980),\"VEP Total Ballots Counted\"]),2)\n",
    "#Non-VBM Averages\n",
    "avg_nonvbm = voter_data.loc[~voter_data[\"State\"].isin(vbm_states)]\n",
    "non_mean = round(avg_nonvbm[\"VEP Total Ballots Counted\"].mean(),2)\n",
    "avg_nonvbm = avg_nonvbm.groupby(\"Year\").mean()\n",
    "non_del = round(avg_nonvbm.loc[1980,\"VEP Total Ballots Counted\"] - avg_nonvbm.loc[2016,\"VEP Total Ballots Counted\"],2)\n",
    "#All 50 Averages\n",
    "all_mean = round(voter_data[\"VEP Total Ballots Counted\"].mean(),2)\n",
    "all_del = round(float(voter_data.loc[voter_data[\"Year\"]==2016,\"VEP Total Ballots Counted\"].mean()) - float(\n",
    "voter_data.loc[voter_data[\"Year\"]==1980,\"VEP Total Ballots Counted\"].mean()),2)\n",
    "\n",
    "a = \"N/A\"\n",
    "\n",
    "vbm_mean_comp = pd.DataFrame({\n",
    "    \"State\":[\"Oregon\",\"Washington\",\"Colorado\",\"Utah\",\"Hawaii\",\"Non-VBM States\",\"All States\"],\n",
    "    \"Pre VBM - Mean Turnout\":[or_bef,wa_bef,co_bef,ut_bef,a,a,a],\n",
    "    \"Post VBM - Mean Turnout\":[or_aft,wa_aft,co_aft,ut_aft,a,a,a],\n",
    "    \"Overall - Mean Turnout\":[or_mean,wa_mean,co_mean,ut_mean,hi_mean,non_mean,all_mean],\n",
    "    \"Gross Change in Turnout (1980 - 2016)\":[or_del,wa_del,co_del,ut_del,hi_del,non_del,all_del]\n",
    "})\n",
    "\n",
    "\n",
    "yticks = np.arange(0.35,0.85,0.10)\n",
    "a = 0\n",
    "for i in yticks:\n",
    "    yticks[a]=round(yticks[a],2)\n",
    "    a=a+1"
   ]
  },
  {
   "cell_type": "code",
   "execution_count": 13,
   "metadata": {},
   "outputs": [
    {
     "data": {
      "application/vnd.plotly.v1+json": {
       "config": {
        "plotlyServerURL": "https://plot.ly"
       },
       "data": [
        {
         "colorbar": {
          "ticksuffix": "%",
          "title": {
           "text": "Ballot Count (%)"
          }
         },
         "colorscale": [
          [
           0,
           "rgb(247,251,255)"
          ],
          [
           0.125,
           "rgb(222,235,247)"
          ],
          [
           0.25,
           "rgb(198,219,239)"
          ],
          [
           0.375,
           "rgb(158,202,225)"
          ],
          [
           0.5,
           "rgb(107,174,214)"
          ],
          [
           0.625,
           "rgb(66,146,198)"
          ],
          [
           0.75,
           "rgb(33,113,181)"
          ],
          [
           0.875,
           "rgb(8,81,156)"
          ],
          [
           1,
           "rgb(8,48,107)"
          ]
         ],
         "locationmode": "USA-states",
         "locations": [
          "ID",
          "FL",
          "GA",
          "HI",
          "IL",
          "IN",
          "IA",
          "KS",
          "KY",
          "LA",
          "ME",
          "MD",
          "MA",
          "MI",
          "MN",
          "MO",
          "MT",
          "NE",
          "NV",
          "NH",
          "NJ",
          "NM",
          "NY",
          "NC",
          "ND",
          "OH",
          "OR",
          "RI",
          "SC",
          "SD",
          "TN",
          "TX",
          "UT",
          "VT",
          "WA",
          "WY",
          "AR",
          "AL",
          "AK",
          "AZ",
          "CA",
          "CO",
          "CT",
          "DE",
          "DC"
         ],
         "type": "choropleth",
         "z": [
          60.9,
          65.6,
          59.8,
          43.20000000000001,
          63.1,
          57.9,
          69.1,
          59.699999999999996,
          59.599999999999994,
          60.6,
          72.9,
          67,
          68.3,
          65.7,
          74.7,
          62.2,
          64.3,
          64,
          57.4,
          72.5,
          65.8,
          54.89999999999999,
          57.2,
          64.9,
          61.7,
          64.2,
          68,
          59.699999999999996,
          57.3,
          60,
          51.800000000000004,
          51.4,
          57.9,
          64.8,
          65.7,
          60.199999999999996,
          53.2,
          59.099999999999994,
          61.5,
          56.10000000000001,
          58.20000000000001,
          71.9,
          64.9,
          64.4,
          60.699999999999996
         ]
        }
       ],
       "layout": {
        "annotations": [
         {
          "showarrow": false,
          "text": "*(EXCLUDES: Mississippi, Oklahoma, Virginia, West Virginia, Pennsylvania, Wisconsin)",
          "x": 0.1,
          "xref": "paper",
          "y": -0.15,
          "yref": "paper"
         }
        ],
        "geo": {
         "scope": "usa"
        },
        "template": {
         "data": {
          "bar": [
           {
            "error_x": {
             "color": "#2a3f5f"
            },
            "error_y": {
             "color": "#2a3f5f"
            },
            "marker": {
             "line": {
              "color": "#E5ECF6",
              "width": 0.5
             }
            },
            "type": "bar"
           }
          ],
          "barpolar": [
           {
            "marker": {
             "line": {
              "color": "#E5ECF6",
              "width": 0.5
             }
            },
            "type": "barpolar"
           }
          ],
          "carpet": [
           {
            "aaxis": {
             "endlinecolor": "#2a3f5f",
             "gridcolor": "white",
             "linecolor": "white",
             "minorgridcolor": "white",
             "startlinecolor": "#2a3f5f"
            },
            "baxis": {
             "endlinecolor": "#2a3f5f",
             "gridcolor": "white",
             "linecolor": "white",
             "minorgridcolor": "white",
             "startlinecolor": "#2a3f5f"
            },
            "type": "carpet"
           }
          ],
          "choropleth": [
           {
            "colorbar": {
             "outlinewidth": 0,
             "ticks": ""
            },
            "type": "choropleth"
           }
          ],
          "contour": [
           {
            "colorbar": {
             "outlinewidth": 0,
             "ticks": ""
            },
            "colorscale": [
             [
              0,
              "#0d0887"
             ],
             [
              0.1111111111111111,
              "#46039f"
             ],
             [
              0.2222222222222222,
              "#7201a8"
             ],
             [
              0.3333333333333333,
              "#9c179e"
             ],
             [
              0.4444444444444444,
              "#bd3786"
             ],
             [
              0.5555555555555556,
              "#d8576b"
             ],
             [
              0.6666666666666666,
              "#ed7953"
             ],
             [
              0.7777777777777778,
              "#fb9f3a"
             ],
             [
              0.8888888888888888,
              "#fdca26"
             ],
             [
              1,
              "#f0f921"
             ]
            ],
            "type": "contour"
           }
          ],
          "contourcarpet": [
           {
            "colorbar": {
             "outlinewidth": 0,
             "ticks": ""
            },
            "type": "contourcarpet"
           }
          ],
          "heatmap": [
           {
            "colorbar": {
             "outlinewidth": 0,
             "ticks": ""
            },
            "colorscale": [
             [
              0,
              "#0d0887"
             ],
             [
              0.1111111111111111,
              "#46039f"
             ],
             [
              0.2222222222222222,
              "#7201a8"
             ],
             [
              0.3333333333333333,
              "#9c179e"
             ],
             [
              0.4444444444444444,
              "#bd3786"
             ],
             [
              0.5555555555555556,
              "#d8576b"
             ],
             [
              0.6666666666666666,
              "#ed7953"
             ],
             [
              0.7777777777777778,
              "#fb9f3a"
             ],
             [
              0.8888888888888888,
              "#fdca26"
             ],
             [
              1,
              "#f0f921"
             ]
            ],
            "type": "heatmap"
           }
          ],
          "heatmapgl": [
           {
            "colorbar": {
             "outlinewidth": 0,
             "ticks": ""
            },
            "colorscale": [
             [
              0,
              "#0d0887"
             ],
             [
              0.1111111111111111,
              "#46039f"
             ],
             [
              0.2222222222222222,
              "#7201a8"
             ],
             [
              0.3333333333333333,
              "#9c179e"
             ],
             [
              0.4444444444444444,
              "#bd3786"
             ],
             [
              0.5555555555555556,
              "#d8576b"
             ],
             [
              0.6666666666666666,
              "#ed7953"
             ],
             [
              0.7777777777777778,
              "#fb9f3a"
             ],
             [
              0.8888888888888888,
              "#fdca26"
             ],
             [
              1,
              "#f0f921"
             ]
            ],
            "type": "heatmapgl"
           }
          ],
          "histogram": [
           {
            "marker": {
             "colorbar": {
              "outlinewidth": 0,
              "ticks": ""
             }
            },
            "type": "histogram"
           }
          ],
          "histogram2d": [
           {
            "colorbar": {
             "outlinewidth": 0,
             "ticks": ""
            },
            "colorscale": [
             [
              0,
              "#0d0887"
             ],
             [
              0.1111111111111111,
              "#46039f"
             ],
             [
              0.2222222222222222,
              "#7201a8"
             ],
             [
              0.3333333333333333,
              "#9c179e"
             ],
             [
              0.4444444444444444,
              "#bd3786"
             ],
             [
              0.5555555555555556,
              "#d8576b"
             ],
             [
              0.6666666666666666,
              "#ed7953"
             ],
             [
              0.7777777777777778,
              "#fb9f3a"
             ],
             [
              0.8888888888888888,
              "#fdca26"
             ],
             [
              1,
              "#f0f921"
             ]
            ],
            "type": "histogram2d"
           }
          ],
          "histogram2dcontour": [
           {
            "colorbar": {
             "outlinewidth": 0,
             "ticks": ""
            },
            "colorscale": [
             [
              0,
              "#0d0887"
             ],
             [
              0.1111111111111111,
              "#46039f"
             ],
             [
              0.2222222222222222,
              "#7201a8"
             ],
             [
              0.3333333333333333,
              "#9c179e"
             ],
             [
              0.4444444444444444,
              "#bd3786"
             ],
             [
              0.5555555555555556,
              "#d8576b"
             ],
             [
              0.6666666666666666,
              "#ed7953"
             ],
             [
              0.7777777777777778,
              "#fb9f3a"
             ],
             [
              0.8888888888888888,
              "#fdca26"
             ],
             [
              1,
              "#f0f921"
             ]
            ],
            "type": "histogram2dcontour"
           }
          ],
          "mesh3d": [
           {
            "colorbar": {
             "outlinewidth": 0,
             "ticks": ""
            },
            "type": "mesh3d"
           }
          ],
          "parcoords": [
           {
            "line": {
             "colorbar": {
              "outlinewidth": 0,
              "ticks": ""
             }
            },
            "type": "parcoords"
           }
          ],
          "pie": [
           {
            "automargin": true,
            "type": "pie"
           }
          ],
          "scatter": [
           {
            "marker": {
             "colorbar": {
              "outlinewidth": 0,
              "ticks": ""
             }
            },
            "type": "scatter"
           }
          ],
          "scatter3d": [
           {
            "line": {
             "colorbar": {
              "outlinewidth": 0,
              "ticks": ""
             }
            },
            "marker": {
             "colorbar": {
              "outlinewidth": 0,
              "ticks": ""
             }
            },
            "type": "scatter3d"
           }
          ],
          "scattercarpet": [
           {
            "marker": {
             "colorbar": {
              "outlinewidth": 0,
              "ticks": ""
             }
            },
            "type": "scattercarpet"
           }
          ],
          "scattergeo": [
           {
            "marker": {
             "colorbar": {
              "outlinewidth": 0,
              "ticks": ""
             }
            },
            "type": "scattergeo"
           }
          ],
          "scattergl": [
           {
            "marker": {
             "colorbar": {
              "outlinewidth": 0,
              "ticks": ""
             }
            },
            "type": "scattergl"
           }
          ],
          "scattermapbox": [
           {
            "marker": {
             "colorbar": {
              "outlinewidth": 0,
              "ticks": ""
             }
            },
            "type": "scattermapbox"
           }
          ],
          "scatterpolar": [
           {
            "marker": {
             "colorbar": {
              "outlinewidth": 0,
              "ticks": ""
             }
            },
            "type": "scatterpolar"
           }
          ],
          "scatterpolargl": [
           {
            "marker": {
             "colorbar": {
              "outlinewidth": 0,
              "ticks": ""
             }
            },
            "type": "scatterpolargl"
           }
          ],
          "scatterternary": [
           {
            "marker": {
             "colorbar": {
              "outlinewidth": 0,
              "ticks": ""
             }
            },
            "type": "scatterternary"
           }
          ],
          "surface": [
           {
            "colorbar": {
             "outlinewidth": 0,
             "ticks": ""
            },
            "colorscale": [
             [
              0,
              "#0d0887"
             ],
             [
              0.1111111111111111,
              "#46039f"
             ],
             [
              0.2222222222222222,
              "#7201a8"
             ],
             [
              0.3333333333333333,
              "#9c179e"
             ],
             [
              0.4444444444444444,
              "#bd3786"
             ],
             [
              0.5555555555555556,
              "#d8576b"
             ],
             [
              0.6666666666666666,
              "#ed7953"
             ],
             [
              0.7777777777777778,
              "#fb9f3a"
             ],
             [
              0.8888888888888888,
              "#fdca26"
             ],
             [
              1,
              "#f0f921"
             ]
            ],
            "type": "surface"
           }
          ],
          "table": [
           {
            "cells": {
             "fill": {
              "color": "#EBF0F8"
             },
             "line": {
              "color": "white"
             }
            },
            "header": {
             "fill": {
              "color": "#C8D4E3"
             },
             "line": {
              "color": "white"
             }
            },
            "type": "table"
           }
          ]
         },
         "layout": {
          "annotationdefaults": {
           "arrowcolor": "#2a3f5f",
           "arrowhead": 0,
           "arrowwidth": 1
          },
          "coloraxis": {
           "colorbar": {
            "outlinewidth": 0,
            "ticks": ""
           }
          },
          "colorscale": {
           "diverging": [
            [
             0,
             "#8e0152"
            ],
            [
             0.1,
             "#c51b7d"
            ],
            [
             0.2,
             "#de77ae"
            ],
            [
             0.3,
             "#f1b6da"
            ],
            [
             0.4,
             "#fde0ef"
            ],
            [
             0.5,
             "#f7f7f7"
            ],
            [
             0.6,
             "#e6f5d0"
            ],
            [
             0.7,
             "#b8e186"
            ],
            [
             0.8,
             "#7fbc41"
            ],
            [
             0.9,
             "#4d9221"
            ],
            [
             1,
             "#276419"
            ]
           ],
           "sequential": [
            [
             0,
             "#0d0887"
            ],
            [
             0.1111111111111111,
             "#46039f"
            ],
            [
             0.2222222222222222,
             "#7201a8"
            ],
            [
             0.3333333333333333,
             "#9c179e"
            ],
            [
             0.4444444444444444,
             "#bd3786"
            ],
            [
             0.5555555555555556,
             "#d8576b"
            ],
            [
             0.6666666666666666,
             "#ed7953"
            ],
            [
             0.7777777777777778,
             "#fb9f3a"
            ],
            [
             0.8888888888888888,
             "#fdca26"
            ],
            [
             1,
             "#f0f921"
            ]
           ],
           "sequentialminus": [
            [
             0,
             "#0d0887"
            ],
            [
             0.1111111111111111,
             "#46039f"
            ],
            [
             0.2222222222222222,
             "#7201a8"
            ],
            [
             0.3333333333333333,
             "#9c179e"
            ],
            [
             0.4444444444444444,
             "#bd3786"
            ],
            [
             0.5555555555555556,
             "#d8576b"
            ],
            [
             0.6666666666666666,
             "#ed7953"
            ],
            [
             0.7777777777777778,
             "#fb9f3a"
            ],
            [
             0.8888888888888888,
             "#fdca26"
            ],
            [
             1,
             "#f0f921"
            ]
           ]
          },
          "colorway": [
           "#636efa",
           "#EF553B",
           "#00cc96",
           "#ab63fa",
           "#FFA15A",
           "#19d3f3",
           "#FF6692",
           "#B6E880",
           "#FF97FF",
           "#FECB52"
          ],
          "font": {
           "color": "#2a3f5f"
          },
          "geo": {
           "bgcolor": "white",
           "lakecolor": "white",
           "landcolor": "#E5ECF6",
           "showlakes": true,
           "showland": true,
           "subunitcolor": "white"
          },
          "hoverlabel": {
           "align": "left"
          },
          "hovermode": "closest",
          "mapbox": {
           "style": "light"
          },
          "paper_bgcolor": "white",
          "plot_bgcolor": "#E5ECF6",
          "polar": {
           "angularaxis": {
            "gridcolor": "white",
            "linecolor": "white",
            "ticks": ""
           },
           "bgcolor": "#E5ECF6",
           "radialaxis": {
            "gridcolor": "white",
            "linecolor": "white",
            "ticks": ""
           }
          },
          "scene": {
           "xaxis": {
            "backgroundcolor": "#E5ECF6",
            "gridcolor": "white",
            "gridwidth": 2,
            "linecolor": "white",
            "showbackground": true,
            "ticks": "",
            "zerolinecolor": "white"
           },
           "yaxis": {
            "backgroundcolor": "#E5ECF6",
            "gridcolor": "white",
            "gridwidth": 2,
            "linecolor": "white",
            "showbackground": true,
            "ticks": "",
            "zerolinecolor": "white"
           },
           "zaxis": {
            "backgroundcolor": "#E5ECF6",
            "gridcolor": "white",
            "gridwidth": 2,
            "linecolor": "white",
            "showbackground": true,
            "ticks": "",
            "zerolinecolor": "white"
           }
          },
          "shapedefaults": {
           "line": {
            "color": "#2a3f5f"
           }
          },
          "ternary": {
           "aaxis": {
            "gridcolor": "white",
            "linecolor": "white",
            "ticks": ""
           },
           "baxis": {
            "gridcolor": "white",
            "linecolor": "white",
            "ticks": ""
           },
           "bgcolor": "#E5ECF6",
           "caxis": {
            "gridcolor": "white",
            "linecolor": "white",
            "ticks": ""
           }
          },
          "title": {
           "x": 0.05
          },
          "xaxis": {
           "automargin": true,
           "gridcolor": "white",
           "linecolor": "white",
           "ticks": "",
           "title": {
            "standoff": 15
           },
           "zerolinecolor": "white",
           "zerolinewidth": 2
          },
          "yaxis": {
           "automargin": true,
           "gridcolor": "white",
           "linecolor": "white",
           "ticks": "",
           "title": {
            "standoff": 15
           },
           "zerolinecolor": "white",
           "zerolinewidth": 2
          }
         }
        },
        "title": {
         "text": "2016 Voting Eligible Population Ballot Counts by State*"
        }
       }
      },
      "text/html": [
       "<div>\n",
       "        \n",
       "        \n",
       "            <div id=\"2c9a250e-3ad0-46aa-8354-d06bd6cff922\" class=\"plotly-graph-div\" style=\"height:525px; width:100%;\"></div>\n",
       "            <script type=\"text/javascript\">\n",
       "                require([\"plotly\"], function(Plotly) {\n",
       "                    window.PLOTLYENV=window.PLOTLYENV || {};\n",
       "                    \n",
       "                if (document.getElementById(\"2c9a250e-3ad0-46aa-8354-d06bd6cff922\")) {\n",
       "                    Plotly.newPlot(\n",
       "                        '2c9a250e-3ad0-46aa-8354-d06bd6cff922',\n",
       "                        [{\"colorbar\": {\"ticksuffix\": \"%\", \"title\": {\"text\": \"Ballot Count (%)\"}}, \"colorscale\": [[0.0, \"rgb(247,251,255)\"], [0.125, \"rgb(222,235,247)\"], [0.25, \"rgb(198,219,239)\"], [0.375, \"rgb(158,202,225)\"], [0.5, \"rgb(107,174,214)\"], [0.625, \"rgb(66,146,198)\"], [0.75, \"rgb(33,113,181)\"], [0.875, \"rgb(8,81,156)\"], [1.0, \"rgb(8,48,107)\"]], \"locationmode\": \"USA-states\", \"locations\": [\"ID\", \"FL\", \"GA\", \"HI\", \"IL\", \"IN\", \"IA\", \"KS\", \"KY\", \"LA\", \"ME\", \"MD\", \"MA\", \"MI\", \"MN\", \"MO\", \"MT\", \"NE\", \"NV\", \"NH\", \"NJ\", \"NM\", \"NY\", \"NC\", \"ND\", \"OH\", \"OR\", \"RI\", \"SC\", \"SD\", \"TN\", \"TX\", \"UT\", \"VT\", \"WA\", \"WY\", \"AR\", \"AL\", \"AK\", \"AZ\", \"CA\", \"CO\", \"CT\", \"DE\", \"DC\"], \"type\": \"choropleth\", \"z\": [60.9, 65.6, 59.8, 43.20000000000001, 63.1, 57.9, 69.1, 59.699999999999996, 59.599999999999994, 60.6, 72.9, 67.0, 68.3, 65.7, 74.7, 62.2, 64.3, 64.0, 57.4, 72.5, 65.8, 54.89999999999999, 57.2, 64.9, 61.7, 64.2, 68.0, 59.699999999999996, 57.3, 60.0, 51.800000000000004, 51.4, 57.9, 64.8, 65.7, 60.199999999999996, 53.2, 59.099999999999994, 61.5, 56.10000000000001, 58.20000000000001, 71.9, 64.9, 64.4, 60.699999999999996]}],\n",
       "                        {\"annotations\": [{\"showarrow\": false, \"text\": \"*(EXCLUDES: Mississippi, Oklahoma, Virginia, West Virginia, Pennsylvania, Wisconsin)\", \"x\": 0.1, \"xref\": \"paper\", \"y\": -0.15, \"yref\": \"paper\"}], \"geo\": {\"scope\": \"usa\"}, \"template\": {\"data\": {\"bar\": [{\"error_x\": {\"color\": \"#2a3f5f\"}, \"error_y\": {\"color\": \"#2a3f5f\"}, \"marker\": {\"line\": {\"color\": \"#E5ECF6\", \"width\": 0.5}}, \"type\": \"bar\"}], \"barpolar\": [{\"marker\": {\"line\": {\"color\": \"#E5ECF6\", \"width\": 0.5}}, \"type\": \"barpolar\"}], \"carpet\": [{\"aaxis\": {\"endlinecolor\": \"#2a3f5f\", \"gridcolor\": \"white\", \"linecolor\": \"white\", \"minorgridcolor\": \"white\", \"startlinecolor\": \"#2a3f5f\"}, \"baxis\": {\"endlinecolor\": \"#2a3f5f\", \"gridcolor\": \"white\", \"linecolor\": \"white\", \"minorgridcolor\": \"white\", \"startlinecolor\": \"#2a3f5f\"}, \"type\": \"carpet\"}], \"choropleth\": [{\"colorbar\": {\"outlinewidth\": 0, \"ticks\": \"\"}, \"type\": \"choropleth\"}], \"contour\": [{\"colorbar\": {\"outlinewidth\": 0, \"ticks\": \"\"}, \"colorscale\": [[0.0, \"#0d0887\"], [0.1111111111111111, \"#46039f\"], [0.2222222222222222, \"#7201a8\"], [0.3333333333333333, \"#9c179e\"], [0.4444444444444444, \"#bd3786\"], [0.5555555555555556, \"#d8576b\"], [0.6666666666666666, \"#ed7953\"], [0.7777777777777778, \"#fb9f3a\"], [0.8888888888888888, \"#fdca26\"], [1.0, \"#f0f921\"]], \"type\": \"contour\"}], \"contourcarpet\": [{\"colorbar\": {\"outlinewidth\": 0, \"ticks\": \"\"}, \"type\": \"contourcarpet\"}], \"heatmap\": [{\"colorbar\": {\"outlinewidth\": 0, \"ticks\": \"\"}, \"colorscale\": [[0.0, \"#0d0887\"], [0.1111111111111111, \"#46039f\"], [0.2222222222222222, \"#7201a8\"], [0.3333333333333333, \"#9c179e\"], [0.4444444444444444, \"#bd3786\"], [0.5555555555555556, \"#d8576b\"], [0.6666666666666666, \"#ed7953\"], [0.7777777777777778, \"#fb9f3a\"], [0.8888888888888888, \"#fdca26\"], [1.0, \"#f0f921\"]], \"type\": \"heatmap\"}], \"heatmapgl\": [{\"colorbar\": {\"outlinewidth\": 0, \"ticks\": \"\"}, \"colorscale\": [[0.0, \"#0d0887\"], [0.1111111111111111, \"#46039f\"], [0.2222222222222222, \"#7201a8\"], [0.3333333333333333, \"#9c179e\"], [0.4444444444444444, \"#bd3786\"], [0.5555555555555556, \"#d8576b\"], [0.6666666666666666, \"#ed7953\"], [0.7777777777777778, \"#fb9f3a\"], [0.8888888888888888, \"#fdca26\"], [1.0, \"#f0f921\"]], \"type\": \"heatmapgl\"}], \"histogram\": [{\"marker\": {\"colorbar\": {\"outlinewidth\": 0, \"ticks\": \"\"}}, \"type\": \"histogram\"}], \"histogram2d\": [{\"colorbar\": {\"outlinewidth\": 0, \"ticks\": \"\"}, \"colorscale\": [[0.0, \"#0d0887\"], [0.1111111111111111, \"#46039f\"], [0.2222222222222222, \"#7201a8\"], [0.3333333333333333, \"#9c179e\"], [0.4444444444444444, \"#bd3786\"], [0.5555555555555556, \"#d8576b\"], [0.6666666666666666, \"#ed7953\"], [0.7777777777777778, \"#fb9f3a\"], [0.8888888888888888, \"#fdca26\"], [1.0, \"#f0f921\"]], \"type\": \"histogram2d\"}], \"histogram2dcontour\": [{\"colorbar\": {\"outlinewidth\": 0, \"ticks\": \"\"}, \"colorscale\": [[0.0, \"#0d0887\"], [0.1111111111111111, \"#46039f\"], [0.2222222222222222, \"#7201a8\"], [0.3333333333333333, \"#9c179e\"], [0.4444444444444444, \"#bd3786\"], [0.5555555555555556, \"#d8576b\"], [0.6666666666666666, \"#ed7953\"], [0.7777777777777778, \"#fb9f3a\"], [0.8888888888888888, \"#fdca26\"], [1.0, \"#f0f921\"]], \"type\": \"histogram2dcontour\"}], \"mesh3d\": [{\"colorbar\": {\"outlinewidth\": 0, \"ticks\": \"\"}, \"type\": \"mesh3d\"}], \"parcoords\": [{\"line\": {\"colorbar\": {\"outlinewidth\": 0, \"ticks\": \"\"}}, \"type\": \"parcoords\"}], \"pie\": [{\"automargin\": true, \"type\": \"pie\"}], \"scatter\": [{\"marker\": {\"colorbar\": {\"outlinewidth\": 0, \"ticks\": \"\"}}, \"type\": \"scatter\"}], \"scatter3d\": [{\"line\": {\"colorbar\": {\"outlinewidth\": 0, \"ticks\": \"\"}}, \"marker\": {\"colorbar\": {\"outlinewidth\": 0, \"ticks\": \"\"}}, \"type\": \"scatter3d\"}], \"scattercarpet\": [{\"marker\": {\"colorbar\": {\"outlinewidth\": 0, \"ticks\": \"\"}}, \"type\": \"scattercarpet\"}], \"scattergeo\": [{\"marker\": {\"colorbar\": {\"outlinewidth\": 0, \"ticks\": \"\"}}, \"type\": \"scattergeo\"}], \"scattergl\": [{\"marker\": {\"colorbar\": {\"outlinewidth\": 0, \"ticks\": \"\"}}, \"type\": \"scattergl\"}], \"scattermapbox\": [{\"marker\": {\"colorbar\": {\"outlinewidth\": 0, \"ticks\": \"\"}}, \"type\": \"scattermapbox\"}], \"scatterpolar\": [{\"marker\": {\"colorbar\": {\"outlinewidth\": 0, \"ticks\": \"\"}}, \"type\": \"scatterpolar\"}], \"scatterpolargl\": [{\"marker\": {\"colorbar\": {\"outlinewidth\": 0, \"ticks\": \"\"}}, \"type\": \"scatterpolargl\"}], \"scatterternary\": [{\"marker\": {\"colorbar\": {\"outlinewidth\": 0, \"ticks\": \"\"}}, \"type\": \"scatterternary\"}], \"surface\": [{\"colorbar\": {\"outlinewidth\": 0, \"ticks\": \"\"}, \"colorscale\": [[0.0, \"#0d0887\"], [0.1111111111111111, \"#46039f\"], [0.2222222222222222, \"#7201a8\"], [0.3333333333333333, \"#9c179e\"], [0.4444444444444444, \"#bd3786\"], [0.5555555555555556, \"#d8576b\"], [0.6666666666666666, \"#ed7953\"], [0.7777777777777778, \"#fb9f3a\"], [0.8888888888888888, \"#fdca26\"], [1.0, \"#f0f921\"]], \"type\": \"surface\"}], \"table\": [{\"cells\": {\"fill\": {\"color\": \"#EBF0F8\"}, \"line\": {\"color\": \"white\"}}, \"header\": {\"fill\": {\"color\": \"#C8D4E3\"}, \"line\": {\"color\": \"white\"}}, \"type\": \"table\"}]}, \"layout\": {\"annotationdefaults\": {\"arrowcolor\": \"#2a3f5f\", \"arrowhead\": 0, \"arrowwidth\": 1}, \"coloraxis\": {\"colorbar\": {\"outlinewidth\": 0, \"ticks\": \"\"}}, \"colorscale\": {\"diverging\": [[0, \"#8e0152\"], [0.1, \"#c51b7d\"], [0.2, \"#de77ae\"], [0.3, \"#f1b6da\"], [0.4, \"#fde0ef\"], [0.5, \"#f7f7f7\"], [0.6, \"#e6f5d0\"], [0.7, \"#b8e186\"], [0.8, \"#7fbc41\"], [0.9, \"#4d9221\"], [1, \"#276419\"]], \"sequential\": [[0.0, \"#0d0887\"], [0.1111111111111111, \"#46039f\"], [0.2222222222222222, \"#7201a8\"], [0.3333333333333333, \"#9c179e\"], [0.4444444444444444, \"#bd3786\"], [0.5555555555555556, \"#d8576b\"], [0.6666666666666666, \"#ed7953\"], [0.7777777777777778, \"#fb9f3a\"], [0.8888888888888888, \"#fdca26\"], [1.0, \"#f0f921\"]], \"sequentialminus\": [[0.0, \"#0d0887\"], [0.1111111111111111, \"#46039f\"], [0.2222222222222222, \"#7201a8\"], [0.3333333333333333, \"#9c179e\"], [0.4444444444444444, \"#bd3786\"], [0.5555555555555556, \"#d8576b\"], [0.6666666666666666, \"#ed7953\"], [0.7777777777777778, \"#fb9f3a\"], [0.8888888888888888, \"#fdca26\"], [1.0, \"#f0f921\"]]}, \"colorway\": [\"#636efa\", \"#EF553B\", \"#00cc96\", \"#ab63fa\", \"#FFA15A\", \"#19d3f3\", \"#FF6692\", \"#B6E880\", \"#FF97FF\", \"#FECB52\"], \"font\": {\"color\": \"#2a3f5f\"}, \"geo\": {\"bgcolor\": \"white\", \"lakecolor\": \"white\", \"landcolor\": \"#E5ECF6\", \"showlakes\": true, \"showland\": true, \"subunitcolor\": \"white\"}, \"hoverlabel\": {\"align\": \"left\"}, \"hovermode\": \"closest\", \"mapbox\": {\"style\": \"light\"}, \"paper_bgcolor\": \"white\", \"plot_bgcolor\": \"#E5ECF6\", \"polar\": {\"angularaxis\": {\"gridcolor\": \"white\", \"linecolor\": \"white\", \"ticks\": \"\"}, \"bgcolor\": \"#E5ECF6\", \"radialaxis\": {\"gridcolor\": \"white\", \"linecolor\": \"white\", \"ticks\": \"\"}}, \"scene\": {\"xaxis\": {\"backgroundcolor\": \"#E5ECF6\", \"gridcolor\": \"white\", \"gridwidth\": 2, \"linecolor\": \"white\", \"showbackground\": true, \"ticks\": \"\", \"zerolinecolor\": \"white\"}, \"yaxis\": {\"backgroundcolor\": \"#E5ECF6\", \"gridcolor\": \"white\", \"gridwidth\": 2, \"linecolor\": \"white\", \"showbackground\": true, \"ticks\": \"\", \"zerolinecolor\": \"white\"}, \"zaxis\": {\"backgroundcolor\": \"#E5ECF6\", \"gridcolor\": \"white\", \"gridwidth\": 2, \"linecolor\": \"white\", \"showbackground\": true, \"ticks\": \"\", \"zerolinecolor\": \"white\"}}, \"shapedefaults\": {\"line\": {\"color\": \"#2a3f5f\"}}, \"ternary\": {\"aaxis\": {\"gridcolor\": \"white\", \"linecolor\": \"white\", \"ticks\": \"\"}, \"baxis\": {\"gridcolor\": \"white\", \"linecolor\": \"white\", \"ticks\": \"\"}, \"bgcolor\": \"#E5ECF6\", \"caxis\": {\"gridcolor\": \"white\", \"linecolor\": \"white\", \"ticks\": \"\"}}, \"title\": {\"x\": 0.05}, \"xaxis\": {\"automargin\": true, \"gridcolor\": \"white\", \"linecolor\": \"white\", \"ticks\": \"\", \"title\": {\"standoff\": 15}, \"zerolinecolor\": \"white\", \"zerolinewidth\": 2}, \"yaxis\": {\"automargin\": true, \"gridcolor\": \"white\", \"linecolor\": \"white\", \"ticks\": \"\", \"title\": {\"standoff\": 15}, \"zerolinecolor\": \"white\", \"zerolinewidth\": 2}}}, \"title\": {\"text\": \"2016 Voting Eligible Population Ballot Counts by State*\"}},\n",
       "                        {\"responsive\": true}\n",
       "                    ).then(function(){\n",
       "                            \n",
       "var gd = document.getElementById('2c9a250e-3ad0-46aa-8354-d06bd6cff922');\n",
       "var x = new MutationObserver(function (mutations, observer) {{\n",
       "        var display = window.getComputedStyle(gd).display;\n",
       "        if (!display || display === 'none') {{\n",
       "            console.log([gd, 'removed!']);\n",
       "            Plotly.purge(gd);\n",
       "            observer.disconnect();\n",
       "        }}\n",
       "}});\n",
       "\n",
       "// Listen for the removal of the full notebook cells\n",
       "var notebookContainer = gd.closest('#notebook-container');\n",
       "if (notebookContainer) {{\n",
       "    x.observe(notebookContainer, {childList: true});\n",
       "}}\n",
       "\n",
       "// Listen for the clearing of the current output cell\n",
       "var outputEl = gd.closest('.output');\n",
       "if (outputEl) {{\n",
       "    x.observe(outputEl, {childList: true});\n",
       "}}\n",
       "\n",
       "                        })\n",
       "                };\n",
       "                });\n",
       "            </script>\n",
       "        </div>"
      ]
     },
     "metadata": {},
     "output_type": "display_data"
    }
   ],
   "source": [
    "# Import data and create dataframe\n",
    "map_data = \"joint_data_12_to_16.csv\"\n",
    "map_data_df = pd.read_csv(map_data, encoding=\"utf-8\")\n",
    "# Filter down to just the needed data for 2016\n",
    "map_data_counts_df = pd.DataFrame(map_data_df[[\"Year\", \"Abbrv\", \"Population\", \"Median Age\", \"Voting-Eligible Population (VEP)\", \"VEP Total Ballots Counted\"]])\n",
    "map_data_2016_df = map_data_counts_df.loc[(map_data_counts_df[\"Year\"] == 2016) & (map_data_counts_df[\"Abbrv\"] != \"US\")]\n",
    "# Create US map based on VEP Ballots\n",
    "fig = go.Figure(data=go.Choropleth(\n",
    "    locations=map_data_2016_df['Abbrv'], # Spatial coordinates\n",
    "    z = map_data_2016_df['VEP Total Ballots Counted'].astype(float)*100, # Data to be color-coded\n",
    "    locationmode = 'USA-states', # set of locations match entries in `locations`\n",
    "    colorscale = 'Blues',\n",
    "    colorbar_ticksuffix = '%',\n",
    "    colorbar_title = \"Ballot Count (%)\",\n",
    "))\n",
    "\n",
    "fig.update_layout(\n",
    "    title_text = '2016 Voting Eligible Population Ballot Counts by State*',\n",
    "    geo_scope='usa', # limite map scope to USA\n",
    "    annotations = [dict(\n",
    "        x=0.1,\n",
    "        y=-0.15,\n",
    "        xref='paper',\n",
    "        yref='paper',\n",
    "        text='*(EXCLUDES: Mississippi, Oklahoma, Virginia, West Virginia, Pennsylvania, Wisconsin)',\n",
    "        showarrow = False\n",
    "    )]\n",
    ")\n",
    "\n",
    "fig.show()"
   ]
  },
  {
   "cell_type": "code",
   "execution_count": 14,
   "metadata": {},
   "outputs": [
    {
     "data": {
      "application/vnd.plotly.v1+json": {
       "config": {
        "plotlyServerURL": "https://plot.ly"
       },
       "data": [
        {
         "colorbar": {
          "title": {
           "text": "Population<br>(in Millions)"
          }
         },
         "colorscale": [
          [
           0,
           "rgb(247,252,245)"
          ],
          [
           0.125,
           "rgb(229,245,224)"
          ],
          [
           0.25,
           "rgb(199,233,192)"
          ],
          [
           0.375,
           "rgb(161,217,155)"
          ],
          [
           0.5,
           "rgb(116,196,118)"
          ],
          [
           0.625,
           "rgb(65,171,93)"
          ],
          [
           0.75,
           "rgb(35,139,69)"
          ],
          [
           0.875,
           "rgb(0,109,44)"
          ],
          [
           1,
           "rgb(0,68,27)"
          ]
         ],
         "locationmode": "USA-states",
         "locations": [
          "ID",
          "FL",
          "GA",
          "HI",
          "IL",
          "IN",
          "IA",
          "KS",
          "KY",
          "LA",
          "ME",
          "MD",
          "MA",
          "MI",
          "MN",
          "MO",
          "MT",
          "NE",
          "NV",
          "NH",
          "NJ",
          "NM",
          "NY",
          "NC",
          "ND",
          "OH",
          "OR",
          "RI",
          "SC",
          "SD",
          "TN",
          "TX",
          "UT",
          "VT",
          "WA",
          "WY",
          "AR",
          "AL",
          "AK",
          "AZ",
          "CA",
          "CO",
          "CT",
          "DE",
          "DC"
         ],
         "type": "choropleth",
         "z": [
          1683140,
          20612439,
          10310371,
          1428557,
          12801539,
          6633053,
          3134693,
          2907289,
          4436974,
          4681666,
          1331479,
          6016447,
          6811779,
          9928300,
          5519952,
          6093000,
          1042520,
          1907116,
          2940058,
          1334795,
          8944469,
          2081015,
          19745289,
          10146788,
          757953,
          11614373,
          4093465,
          1056426,
          4961119,
          865454,
          6651194,
          27862596,
          3051217,
          624594,
          7288000,
          585501,
          2988248,
          4863300,
          741894,
          6931071,
          39250017,
          5540545,
          3576452,
          952065,
          681170
         ]
        }
       ],
       "layout": {
        "annotations": [
         {
          "showarrow": false,
          "text": "*(EXCLUDES: Mississippi, Oklahoma, Virginia, West Virginia, Pennsylvania, Wisconsin)",
          "x": 0.1,
          "xref": "paper",
          "y": -0.1,
          "yref": "paper"
         }
        ],
        "geo": {
         "scope": "usa"
        },
        "template": {
         "data": {
          "bar": [
           {
            "error_x": {
             "color": "#2a3f5f"
            },
            "error_y": {
             "color": "#2a3f5f"
            },
            "marker": {
             "line": {
              "color": "#E5ECF6",
              "width": 0.5
             }
            },
            "type": "bar"
           }
          ],
          "barpolar": [
           {
            "marker": {
             "line": {
              "color": "#E5ECF6",
              "width": 0.5
             }
            },
            "type": "barpolar"
           }
          ],
          "carpet": [
           {
            "aaxis": {
             "endlinecolor": "#2a3f5f",
             "gridcolor": "white",
             "linecolor": "white",
             "minorgridcolor": "white",
             "startlinecolor": "#2a3f5f"
            },
            "baxis": {
             "endlinecolor": "#2a3f5f",
             "gridcolor": "white",
             "linecolor": "white",
             "minorgridcolor": "white",
             "startlinecolor": "#2a3f5f"
            },
            "type": "carpet"
           }
          ],
          "choropleth": [
           {
            "colorbar": {
             "outlinewidth": 0,
             "ticks": ""
            },
            "type": "choropleth"
           }
          ],
          "contour": [
           {
            "colorbar": {
             "outlinewidth": 0,
             "ticks": ""
            },
            "colorscale": [
             [
              0,
              "#0d0887"
             ],
             [
              0.1111111111111111,
              "#46039f"
             ],
             [
              0.2222222222222222,
              "#7201a8"
             ],
             [
              0.3333333333333333,
              "#9c179e"
             ],
             [
              0.4444444444444444,
              "#bd3786"
             ],
             [
              0.5555555555555556,
              "#d8576b"
             ],
             [
              0.6666666666666666,
              "#ed7953"
             ],
             [
              0.7777777777777778,
              "#fb9f3a"
             ],
             [
              0.8888888888888888,
              "#fdca26"
             ],
             [
              1,
              "#f0f921"
             ]
            ],
            "type": "contour"
           }
          ],
          "contourcarpet": [
           {
            "colorbar": {
             "outlinewidth": 0,
             "ticks": ""
            },
            "type": "contourcarpet"
           }
          ],
          "heatmap": [
           {
            "colorbar": {
             "outlinewidth": 0,
             "ticks": ""
            },
            "colorscale": [
             [
              0,
              "#0d0887"
             ],
             [
              0.1111111111111111,
              "#46039f"
             ],
             [
              0.2222222222222222,
              "#7201a8"
             ],
             [
              0.3333333333333333,
              "#9c179e"
             ],
             [
              0.4444444444444444,
              "#bd3786"
             ],
             [
              0.5555555555555556,
              "#d8576b"
             ],
             [
              0.6666666666666666,
              "#ed7953"
             ],
             [
              0.7777777777777778,
              "#fb9f3a"
             ],
             [
              0.8888888888888888,
              "#fdca26"
             ],
             [
              1,
              "#f0f921"
             ]
            ],
            "type": "heatmap"
           }
          ],
          "heatmapgl": [
           {
            "colorbar": {
             "outlinewidth": 0,
             "ticks": ""
            },
            "colorscale": [
             [
              0,
              "#0d0887"
             ],
             [
              0.1111111111111111,
              "#46039f"
             ],
             [
              0.2222222222222222,
              "#7201a8"
             ],
             [
              0.3333333333333333,
              "#9c179e"
             ],
             [
              0.4444444444444444,
              "#bd3786"
             ],
             [
              0.5555555555555556,
              "#d8576b"
             ],
             [
              0.6666666666666666,
              "#ed7953"
             ],
             [
              0.7777777777777778,
              "#fb9f3a"
             ],
             [
              0.8888888888888888,
              "#fdca26"
             ],
             [
              1,
              "#f0f921"
             ]
            ],
            "type": "heatmapgl"
           }
          ],
          "histogram": [
           {
            "marker": {
             "colorbar": {
              "outlinewidth": 0,
              "ticks": ""
             }
            },
            "type": "histogram"
           }
          ],
          "histogram2d": [
           {
            "colorbar": {
             "outlinewidth": 0,
             "ticks": ""
            },
            "colorscale": [
             [
              0,
              "#0d0887"
             ],
             [
              0.1111111111111111,
              "#46039f"
             ],
             [
              0.2222222222222222,
              "#7201a8"
             ],
             [
              0.3333333333333333,
              "#9c179e"
             ],
             [
              0.4444444444444444,
              "#bd3786"
             ],
             [
              0.5555555555555556,
              "#d8576b"
             ],
             [
              0.6666666666666666,
              "#ed7953"
             ],
             [
              0.7777777777777778,
              "#fb9f3a"
             ],
             [
              0.8888888888888888,
              "#fdca26"
             ],
             [
              1,
              "#f0f921"
             ]
            ],
            "type": "histogram2d"
           }
          ],
          "histogram2dcontour": [
           {
            "colorbar": {
             "outlinewidth": 0,
             "ticks": ""
            },
            "colorscale": [
             [
              0,
              "#0d0887"
             ],
             [
              0.1111111111111111,
              "#46039f"
             ],
             [
              0.2222222222222222,
              "#7201a8"
             ],
             [
              0.3333333333333333,
              "#9c179e"
             ],
             [
              0.4444444444444444,
              "#bd3786"
             ],
             [
              0.5555555555555556,
              "#d8576b"
             ],
             [
              0.6666666666666666,
              "#ed7953"
             ],
             [
              0.7777777777777778,
              "#fb9f3a"
             ],
             [
              0.8888888888888888,
              "#fdca26"
             ],
             [
              1,
              "#f0f921"
             ]
            ],
            "type": "histogram2dcontour"
           }
          ],
          "mesh3d": [
           {
            "colorbar": {
             "outlinewidth": 0,
             "ticks": ""
            },
            "type": "mesh3d"
           }
          ],
          "parcoords": [
           {
            "line": {
             "colorbar": {
              "outlinewidth": 0,
              "ticks": ""
             }
            },
            "type": "parcoords"
           }
          ],
          "pie": [
           {
            "automargin": true,
            "type": "pie"
           }
          ],
          "scatter": [
           {
            "marker": {
             "colorbar": {
              "outlinewidth": 0,
              "ticks": ""
             }
            },
            "type": "scatter"
           }
          ],
          "scatter3d": [
           {
            "line": {
             "colorbar": {
              "outlinewidth": 0,
              "ticks": ""
             }
            },
            "marker": {
             "colorbar": {
              "outlinewidth": 0,
              "ticks": ""
             }
            },
            "type": "scatter3d"
           }
          ],
          "scattercarpet": [
           {
            "marker": {
             "colorbar": {
              "outlinewidth": 0,
              "ticks": ""
             }
            },
            "type": "scattercarpet"
           }
          ],
          "scattergeo": [
           {
            "marker": {
             "colorbar": {
              "outlinewidth": 0,
              "ticks": ""
             }
            },
            "type": "scattergeo"
           }
          ],
          "scattergl": [
           {
            "marker": {
             "colorbar": {
              "outlinewidth": 0,
              "ticks": ""
             }
            },
            "type": "scattergl"
           }
          ],
          "scattermapbox": [
           {
            "marker": {
             "colorbar": {
              "outlinewidth": 0,
              "ticks": ""
             }
            },
            "type": "scattermapbox"
           }
          ],
          "scatterpolar": [
           {
            "marker": {
             "colorbar": {
              "outlinewidth": 0,
              "ticks": ""
             }
            },
            "type": "scatterpolar"
           }
          ],
          "scatterpolargl": [
           {
            "marker": {
             "colorbar": {
              "outlinewidth": 0,
              "ticks": ""
             }
            },
            "type": "scatterpolargl"
           }
          ],
          "scatterternary": [
           {
            "marker": {
             "colorbar": {
              "outlinewidth": 0,
              "ticks": ""
             }
            },
            "type": "scatterternary"
           }
          ],
          "surface": [
           {
            "colorbar": {
             "outlinewidth": 0,
             "ticks": ""
            },
            "colorscale": [
             [
              0,
              "#0d0887"
             ],
             [
              0.1111111111111111,
              "#46039f"
             ],
             [
              0.2222222222222222,
              "#7201a8"
             ],
             [
              0.3333333333333333,
              "#9c179e"
             ],
             [
              0.4444444444444444,
              "#bd3786"
             ],
             [
              0.5555555555555556,
              "#d8576b"
             ],
             [
              0.6666666666666666,
              "#ed7953"
             ],
             [
              0.7777777777777778,
              "#fb9f3a"
             ],
             [
              0.8888888888888888,
              "#fdca26"
             ],
             [
              1,
              "#f0f921"
             ]
            ],
            "type": "surface"
           }
          ],
          "table": [
           {
            "cells": {
             "fill": {
              "color": "#EBF0F8"
             },
             "line": {
              "color": "white"
             }
            },
            "header": {
             "fill": {
              "color": "#C8D4E3"
             },
             "line": {
              "color": "white"
             }
            },
            "type": "table"
           }
          ]
         },
         "layout": {
          "annotationdefaults": {
           "arrowcolor": "#2a3f5f",
           "arrowhead": 0,
           "arrowwidth": 1
          },
          "coloraxis": {
           "colorbar": {
            "outlinewidth": 0,
            "ticks": ""
           }
          },
          "colorscale": {
           "diverging": [
            [
             0,
             "#8e0152"
            ],
            [
             0.1,
             "#c51b7d"
            ],
            [
             0.2,
             "#de77ae"
            ],
            [
             0.3,
             "#f1b6da"
            ],
            [
             0.4,
             "#fde0ef"
            ],
            [
             0.5,
             "#f7f7f7"
            ],
            [
             0.6,
             "#e6f5d0"
            ],
            [
             0.7,
             "#b8e186"
            ],
            [
             0.8,
             "#7fbc41"
            ],
            [
             0.9,
             "#4d9221"
            ],
            [
             1,
             "#276419"
            ]
           ],
           "sequential": [
            [
             0,
             "#0d0887"
            ],
            [
             0.1111111111111111,
             "#46039f"
            ],
            [
             0.2222222222222222,
             "#7201a8"
            ],
            [
             0.3333333333333333,
             "#9c179e"
            ],
            [
             0.4444444444444444,
             "#bd3786"
            ],
            [
             0.5555555555555556,
             "#d8576b"
            ],
            [
             0.6666666666666666,
             "#ed7953"
            ],
            [
             0.7777777777777778,
             "#fb9f3a"
            ],
            [
             0.8888888888888888,
             "#fdca26"
            ],
            [
             1,
             "#f0f921"
            ]
           ],
           "sequentialminus": [
            [
             0,
             "#0d0887"
            ],
            [
             0.1111111111111111,
             "#46039f"
            ],
            [
             0.2222222222222222,
             "#7201a8"
            ],
            [
             0.3333333333333333,
             "#9c179e"
            ],
            [
             0.4444444444444444,
             "#bd3786"
            ],
            [
             0.5555555555555556,
             "#d8576b"
            ],
            [
             0.6666666666666666,
             "#ed7953"
            ],
            [
             0.7777777777777778,
             "#fb9f3a"
            ],
            [
             0.8888888888888888,
             "#fdca26"
            ],
            [
             1,
             "#f0f921"
            ]
           ]
          },
          "colorway": [
           "#636efa",
           "#EF553B",
           "#00cc96",
           "#ab63fa",
           "#FFA15A",
           "#19d3f3",
           "#FF6692",
           "#B6E880",
           "#FF97FF",
           "#FECB52"
          ],
          "font": {
           "color": "#2a3f5f"
          },
          "geo": {
           "bgcolor": "white",
           "lakecolor": "white",
           "landcolor": "#E5ECF6",
           "showlakes": true,
           "showland": true,
           "subunitcolor": "white"
          },
          "hoverlabel": {
           "align": "left"
          },
          "hovermode": "closest",
          "mapbox": {
           "style": "light"
          },
          "paper_bgcolor": "white",
          "plot_bgcolor": "#E5ECF6",
          "polar": {
           "angularaxis": {
            "gridcolor": "white",
            "linecolor": "white",
            "ticks": ""
           },
           "bgcolor": "#E5ECF6",
           "radialaxis": {
            "gridcolor": "white",
            "linecolor": "white",
            "ticks": ""
           }
          },
          "scene": {
           "xaxis": {
            "backgroundcolor": "#E5ECF6",
            "gridcolor": "white",
            "gridwidth": 2,
            "linecolor": "white",
            "showbackground": true,
            "ticks": "",
            "zerolinecolor": "white"
           },
           "yaxis": {
            "backgroundcolor": "#E5ECF6",
            "gridcolor": "white",
            "gridwidth": 2,
            "linecolor": "white",
            "showbackground": true,
            "ticks": "",
            "zerolinecolor": "white"
           },
           "zaxis": {
            "backgroundcolor": "#E5ECF6",
            "gridcolor": "white",
            "gridwidth": 2,
            "linecolor": "white",
            "showbackground": true,
            "ticks": "",
            "zerolinecolor": "white"
           }
          },
          "shapedefaults": {
           "line": {
            "color": "#2a3f5f"
           }
          },
          "ternary": {
           "aaxis": {
            "gridcolor": "white",
            "linecolor": "white",
            "ticks": ""
           },
           "baxis": {
            "gridcolor": "white",
            "linecolor": "white",
            "ticks": ""
           },
           "bgcolor": "#E5ECF6",
           "caxis": {
            "gridcolor": "white",
            "linecolor": "white",
            "ticks": ""
           }
          },
          "title": {
           "x": 0.05
          },
          "xaxis": {
           "automargin": true,
           "gridcolor": "white",
           "linecolor": "white",
           "ticks": "",
           "title": {
            "standoff": 15
           },
           "zerolinecolor": "white",
           "zerolinewidth": 2
          },
          "yaxis": {
           "automargin": true,
           "gridcolor": "white",
           "linecolor": "white",
           "ticks": "",
           "title": {
            "standoff": 15
           },
           "zerolinecolor": "white",
           "zerolinewidth": 2
          }
         }
        },
        "title": {
         "text": "2016 Population Counts by State*"
        }
       }
      },
      "text/html": [
       "<div>\n",
       "        \n",
       "        \n",
       "            <div id=\"966b78aa-8fa0-43d8-bfb1-0e783f817722\" class=\"plotly-graph-div\" style=\"height:525px; width:100%;\"></div>\n",
       "            <script type=\"text/javascript\">\n",
       "                require([\"plotly\"], function(Plotly) {\n",
       "                    window.PLOTLYENV=window.PLOTLYENV || {};\n",
       "                    \n",
       "                if (document.getElementById(\"966b78aa-8fa0-43d8-bfb1-0e783f817722\")) {\n",
       "                    Plotly.newPlot(\n",
       "                        '966b78aa-8fa0-43d8-bfb1-0e783f817722',\n",
       "                        [{\"colorbar\": {\"title\": {\"text\": \"Population<br>(in Millions)\"}}, \"colorscale\": [[0.0, \"rgb(247,252,245)\"], [0.125, \"rgb(229,245,224)\"], [0.25, \"rgb(199,233,192)\"], [0.375, \"rgb(161,217,155)\"], [0.5, \"rgb(116,196,118)\"], [0.625, \"rgb(65,171,93)\"], [0.75, \"rgb(35,139,69)\"], [0.875, \"rgb(0,109,44)\"], [1.0, \"rgb(0,68,27)\"]], \"locationmode\": \"USA-states\", \"locations\": [\"ID\", \"FL\", \"GA\", \"HI\", \"IL\", \"IN\", \"IA\", \"KS\", \"KY\", \"LA\", \"ME\", \"MD\", \"MA\", \"MI\", \"MN\", \"MO\", \"MT\", \"NE\", \"NV\", \"NH\", \"NJ\", \"NM\", \"NY\", \"NC\", \"ND\", \"OH\", \"OR\", \"RI\", \"SC\", \"SD\", \"TN\", \"TX\", \"UT\", \"VT\", \"WA\", \"WY\", \"AR\", \"AL\", \"AK\", \"AZ\", \"CA\", \"CO\", \"CT\", \"DE\", \"DC\"], \"type\": \"choropleth\", \"z\": [1683140.0, 20612439.0, 10310371.0, 1428557.0, 12801539.0, 6633053.0, 3134693.0, 2907289.0, 4436974.0, 4681666.0, 1331479.0, 6016447.0, 6811779.0, 9928300.0, 5519952.0, 6093000.0, 1042520.0, 1907116.0, 2940058.0, 1334795.0, 8944469.0, 2081015.0, 19745289.0, 10146788.0, 757953.0, 11614373.0, 4093465.0, 1056426.0, 4961119.0, 865454.0, 6651194.0, 27862596.0, 3051217.0, 624594.0, 7288000.0, 585501.0, 2988248.0, 4863300.0, 741894.0, 6931071.0, 39250017.0, 5540545.0, 3576452.0, 952065.0, 681170.0]}],\n",
       "                        {\"annotations\": [{\"showarrow\": false, \"text\": \"*(EXCLUDES: Mississippi, Oklahoma, Virginia, West Virginia, Pennsylvania, Wisconsin)\", \"x\": 0.1, \"xref\": \"paper\", \"y\": -0.1, \"yref\": \"paper\"}], \"geo\": {\"scope\": \"usa\"}, \"template\": {\"data\": {\"bar\": [{\"error_x\": {\"color\": \"#2a3f5f\"}, \"error_y\": {\"color\": \"#2a3f5f\"}, \"marker\": {\"line\": {\"color\": \"#E5ECF6\", \"width\": 0.5}}, \"type\": \"bar\"}], \"barpolar\": [{\"marker\": {\"line\": {\"color\": \"#E5ECF6\", \"width\": 0.5}}, \"type\": \"barpolar\"}], \"carpet\": [{\"aaxis\": {\"endlinecolor\": \"#2a3f5f\", \"gridcolor\": \"white\", \"linecolor\": \"white\", \"minorgridcolor\": \"white\", \"startlinecolor\": \"#2a3f5f\"}, \"baxis\": {\"endlinecolor\": \"#2a3f5f\", \"gridcolor\": \"white\", \"linecolor\": \"white\", \"minorgridcolor\": \"white\", \"startlinecolor\": \"#2a3f5f\"}, \"type\": \"carpet\"}], \"choropleth\": [{\"colorbar\": {\"outlinewidth\": 0, \"ticks\": \"\"}, \"type\": \"choropleth\"}], \"contour\": [{\"colorbar\": {\"outlinewidth\": 0, \"ticks\": \"\"}, \"colorscale\": [[0.0, \"#0d0887\"], [0.1111111111111111, \"#46039f\"], [0.2222222222222222, \"#7201a8\"], [0.3333333333333333, \"#9c179e\"], [0.4444444444444444, \"#bd3786\"], [0.5555555555555556, \"#d8576b\"], [0.6666666666666666, \"#ed7953\"], [0.7777777777777778, \"#fb9f3a\"], [0.8888888888888888, \"#fdca26\"], [1.0, \"#f0f921\"]], \"type\": \"contour\"}], \"contourcarpet\": [{\"colorbar\": {\"outlinewidth\": 0, \"ticks\": \"\"}, \"type\": \"contourcarpet\"}], \"heatmap\": [{\"colorbar\": {\"outlinewidth\": 0, \"ticks\": \"\"}, \"colorscale\": [[0.0, \"#0d0887\"], [0.1111111111111111, \"#46039f\"], [0.2222222222222222, \"#7201a8\"], [0.3333333333333333, \"#9c179e\"], [0.4444444444444444, \"#bd3786\"], [0.5555555555555556, \"#d8576b\"], [0.6666666666666666, \"#ed7953\"], [0.7777777777777778, \"#fb9f3a\"], [0.8888888888888888, \"#fdca26\"], [1.0, \"#f0f921\"]], \"type\": \"heatmap\"}], \"heatmapgl\": [{\"colorbar\": {\"outlinewidth\": 0, \"ticks\": \"\"}, \"colorscale\": [[0.0, \"#0d0887\"], [0.1111111111111111, \"#46039f\"], [0.2222222222222222, \"#7201a8\"], [0.3333333333333333, \"#9c179e\"], [0.4444444444444444, \"#bd3786\"], [0.5555555555555556, \"#d8576b\"], [0.6666666666666666, \"#ed7953\"], [0.7777777777777778, \"#fb9f3a\"], [0.8888888888888888, \"#fdca26\"], [1.0, \"#f0f921\"]], \"type\": \"heatmapgl\"}], \"histogram\": [{\"marker\": {\"colorbar\": {\"outlinewidth\": 0, \"ticks\": \"\"}}, \"type\": \"histogram\"}], \"histogram2d\": [{\"colorbar\": {\"outlinewidth\": 0, \"ticks\": \"\"}, \"colorscale\": [[0.0, \"#0d0887\"], [0.1111111111111111, \"#46039f\"], [0.2222222222222222, \"#7201a8\"], [0.3333333333333333, \"#9c179e\"], [0.4444444444444444, \"#bd3786\"], [0.5555555555555556, \"#d8576b\"], [0.6666666666666666, \"#ed7953\"], [0.7777777777777778, \"#fb9f3a\"], [0.8888888888888888, \"#fdca26\"], [1.0, \"#f0f921\"]], \"type\": \"histogram2d\"}], \"histogram2dcontour\": [{\"colorbar\": {\"outlinewidth\": 0, \"ticks\": \"\"}, \"colorscale\": [[0.0, \"#0d0887\"], [0.1111111111111111, \"#46039f\"], [0.2222222222222222, \"#7201a8\"], [0.3333333333333333, \"#9c179e\"], [0.4444444444444444, \"#bd3786\"], [0.5555555555555556, \"#d8576b\"], [0.6666666666666666, \"#ed7953\"], [0.7777777777777778, \"#fb9f3a\"], [0.8888888888888888, \"#fdca26\"], [1.0, \"#f0f921\"]], \"type\": \"histogram2dcontour\"}], \"mesh3d\": [{\"colorbar\": {\"outlinewidth\": 0, \"ticks\": \"\"}, \"type\": \"mesh3d\"}], \"parcoords\": [{\"line\": {\"colorbar\": {\"outlinewidth\": 0, \"ticks\": \"\"}}, \"type\": \"parcoords\"}], \"pie\": [{\"automargin\": true, \"type\": \"pie\"}], \"scatter\": [{\"marker\": {\"colorbar\": {\"outlinewidth\": 0, \"ticks\": \"\"}}, \"type\": \"scatter\"}], \"scatter3d\": [{\"line\": {\"colorbar\": {\"outlinewidth\": 0, \"ticks\": \"\"}}, \"marker\": {\"colorbar\": {\"outlinewidth\": 0, \"ticks\": \"\"}}, \"type\": \"scatter3d\"}], \"scattercarpet\": [{\"marker\": {\"colorbar\": {\"outlinewidth\": 0, \"ticks\": \"\"}}, \"type\": \"scattercarpet\"}], \"scattergeo\": [{\"marker\": {\"colorbar\": {\"outlinewidth\": 0, \"ticks\": \"\"}}, \"type\": \"scattergeo\"}], \"scattergl\": [{\"marker\": {\"colorbar\": {\"outlinewidth\": 0, \"ticks\": \"\"}}, \"type\": \"scattergl\"}], \"scattermapbox\": [{\"marker\": {\"colorbar\": {\"outlinewidth\": 0, \"ticks\": \"\"}}, \"type\": \"scattermapbox\"}], \"scatterpolar\": [{\"marker\": {\"colorbar\": {\"outlinewidth\": 0, \"ticks\": \"\"}}, \"type\": \"scatterpolar\"}], \"scatterpolargl\": [{\"marker\": {\"colorbar\": {\"outlinewidth\": 0, \"ticks\": \"\"}}, \"type\": \"scatterpolargl\"}], \"scatterternary\": [{\"marker\": {\"colorbar\": {\"outlinewidth\": 0, \"ticks\": \"\"}}, \"type\": \"scatterternary\"}], \"surface\": [{\"colorbar\": {\"outlinewidth\": 0, \"ticks\": \"\"}, \"colorscale\": [[0.0, \"#0d0887\"], [0.1111111111111111, \"#46039f\"], [0.2222222222222222, \"#7201a8\"], [0.3333333333333333, \"#9c179e\"], [0.4444444444444444, \"#bd3786\"], [0.5555555555555556, \"#d8576b\"], [0.6666666666666666, \"#ed7953\"], [0.7777777777777778, \"#fb9f3a\"], [0.8888888888888888, \"#fdca26\"], [1.0, \"#f0f921\"]], \"type\": \"surface\"}], \"table\": [{\"cells\": {\"fill\": {\"color\": \"#EBF0F8\"}, \"line\": {\"color\": \"white\"}}, \"header\": {\"fill\": {\"color\": \"#C8D4E3\"}, \"line\": {\"color\": \"white\"}}, \"type\": \"table\"}]}, \"layout\": {\"annotationdefaults\": {\"arrowcolor\": \"#2a3f5f\", \"arrowhead\": 0, \"arrowwidth\": 1}, \"coloraxis\": {\"colorbar\": {\"outlinewidth\": 0, \"ticks\": \"\"}}, \"colorscale\": {\"diverging\": [[0, \"#8e0152\"], [0.1, \"#c51b7d\"], [0.2, \"#de77ae\"], [0.3, \"#f1b6da\"], [0.4, \"#fde0ef\"], [0.5, \"#f7f7f7\"], [0.6, \"#e6f5d0\"], [0.7, \"#b8e186\"], [0.8, \"#7fbc41\"], [0.9, \"#4d9221\"], [1, \"#276419\"]], \"sequential\": [[0.0, \"#0d0887\"], [0.1111111111111111, \"#46039f\"], [0.2222222222222222, \"#7201a8\"], [0.3333333333333333, \"#9c179e\"], [0.4444444444444444, \"#bd3786\"], [0.5555555555555556, \"#d8576b\"], [0.6666666666666666, \"#ed7953\"], [0.7777777777777778, \"#fb9f3a\"], [0.8888888888888888, \"#fdca26\"], [1.0, \"#f0f921\"]], \"sequentialminus\": [[0.0, \"#0d0887\"], [0.1111111111111111, \"#46039f\"], [0.2222222222222222, \"#7201a8\"], [0.3333333333333333, \"#9c179e\"], [0.4444444444444444, \"#bd3786\"], [0.5555555555555556, \"#d8576b\"], [0.6666666666666666, \"#ed7953\"], [0.7777777777777778, \"#fb9f3a\"], [0.8888888888888888, \"#fdca26\"], [1.0, \"#f0f921\"]]}, \"colorway\": [\"#636efa\", \"#EF553B\", \"#00cc96\", \"#ab63fa\", \"#FFA15A\", \"#19d3f3\", \"#FF6692\", \"#B6E880\", \"#FF97FF\", \"#FECB52\"], \"font\": {\"color\": \"#2a3f5f\"}, \"geo\": {\"bgcolor\": \"white\", \"lakecolor\": \"white\", \"landcolor\": \"#E5ECF6\", \"showlakes\": true, \"showland\": true, \"subunitcolor\": \"white\"}, \"hoverlabel\": {\"align\": \"left\"}, \"hovermode\": \"closest\", \"mapbox\": {\"style\": \"light\"}, \"paper_bgcolor\": \"white\", \"plot_bgcolor\": \"#E5ECF6\", \"polar\": {\"angularaxis\": {\"gridcolor\": \"white\", \"linecolor\": \"white\", \"ticks\": \"\"}, \"bgcolor\": \"#E5ECF6\", \"radialaxis\": {\"gridcolor\": \"white\", \"linecolor\": \"white\", \"ticks\": \"\"}}, \"scene\": {\"xaxis\": {\"backgroundcolor\": \"#E5ECF6\", \"gridcolor\": \"white\", \"gridwidth\": 2, \"linecolor\": \"white\", \"showbackground\": true, \"ticks\": \"\", \"zerolinecolor\": \"white\"}, \"yaxis\": {\"backgroundcolor\": \"#E5ECF6\", \"gridcolor\": \"white\", \"gridwidth\": 2, \"linecolor\": \"white\", \"showbackground\": true, \"ticks\": \"\", \"zerolinecolor\": \"white\"}, \"zaxis\": {\"backgroundcolor\": \"#E5ECF6\", \"gridcolor\": \"white\", \"gridwidth\": 2, \"linecolor\": \"white\", \"showbackground\": true, \"ticks\": \"\", \"zerolinecolor\": \"white\"}}, \"shapedefaults\": {\"line\": {\"color\": \"#2a3f5f\"}}, \"ternary\": {\"aaxis\": {\"gridcolor\": \"white\", \"linecolor\": \"white\", \"ticks\": \"\"}, \"baxis\": {\"gridcolor\": \"white\", \"linecolor\": \"white\", \"ticks\": \"\"}, \"bgcolor\": \"#E5ECF6\", \"caxis\": {\"gridcolor\": \"white\", \"linecolor\": \"white\", \"ticks\": \"\"}}, \"title\": {\"x\": 0.05}, \"xaxis\": {\"automargin\": true, \"gridcolor\": \"white\", \"linecolor\": \"white\", \"ticks\": \"\", \"title\": {\"standoff\": 15}, \"zerolinecolor\": \"white\", \"zerolinewidth\": 2}, \"yaxis\": {\"automargin\": true, \"gridcolor\": \"white\", \"linecolor\": \"white\", \"ticks\": \"\", \"title\": {\"standoff\": 15}, \"zerolinecolor\": \"white\", \"zerolinewidth\": 2}}}, \"title\": {\"text\": \"2016 Population Counts by State*\"}},\n",
       "                        {\"responsive\": true}\n",
       "                    ).then(function(){\n",
       "                            \n",
       "var gd = document.getElementById('966b78aa-8fa0-43d8-bfb1-0e783f817722');\n",
       "var x = new MutationObserver(function (mutations, observer) {{\n",
       "        var display = window.getComputedStyle(gd).display;\n",
       "        if (!display || display === 'none') {{\n",
       "            console.log([gd, 'removed!']);\n",
       "            Plotly.purge(gd);\n",
       "            observer.disconnect();\n",
       "        }}\n",
       "}});\n",
       "\n",
       "// Listen for the removal of the full notebook cells\n",
       "var notebookContainer = gd.closest('#notebook-container');\n",
       "if (notebookContainer) {{\n",
       "    x.observe(notebookContainer, {childList: true});\n",
       "}}\n",
       "\n",
       "// Listen for the clearing of the current output cell\n",
       "var outputEl = gd.closest('.output');\n",
       "if (outputEl) {{\n",
       "    x.observe(outputEl, {childList: true});\n",
       "}}\n",
       "\n",
       "                        })\n",
       "                };\n",
       "                });\n",
       "            </script>\n",
       "        </div>"
      ]
     },
     "metadata": {},
     "output_type": "display_data"
    }
   ],
   "source": [
    "# Create US map based on Population\n",
    "fig2 = go.Figure(data=go.Choropleth(\n",
    "    locations=map_data_2016_df['Abbrv'], # Spatial coordinates\n",
    "    z = map_data_2016_df['Population'].astype(float), # Data to be color-coded\n",
    "    locationmode = 'USA-states', # set of locations match entries in `locations`\n",
    "    colorscale = 'Greens',\n",
    "    #colorbar_ticksuffix = '%',\n",
    "    colorbar_title = \"Population<br>(in Millions)\",\n",
    "))\n",
    "\n",
    "fig2.update_layout(\n",
    "    title_text = '2016 Population Counts by State*',\n",
    "    geo_scope='usa', # limite map scope to USA\n",
    "        annotations = [dict(\n",
    "        x=0.1,\n",
    "        y=-0.1,\n",
    "        xref='paper',\n",
    "        yref='paper',\n",
    "        text='*(EXCLUDES: Mississippi, Oklahoma, Virginia, West Virginia, Pennsylvania, Wisconsin)',\n",
    "        showarrow = False\n",
    "    )]\n",
    ")\n",
    "\n",
    "fig2.show()"
   ]
  },
  {
   "cell_type": "code",
   "execution_count": 15,
   "metadata": {},
   "outputs": [
    {
     "data": {
      "application/vnd.plotly.v1+json": {
       "config": {
        "plotlyServerURL": "https://plot.ly"
       },
       "data": [
        {
         "colorbar": {
          "title": {
           "text": "Median Age<br>(Years)"
          }
         },
         "colorscale": [
          [
           0,
           "rgb(252,251,253)"
          ],
          [
           0.125,
           "rgb(239,237,245)"
          ],
          [
           0.25,
           "rgb(218,218,235)"
          ],
          [
           0.375,
           "rgb(188,189,220)"
          ],
          [
           0.5,
           "rgb(158,154,200)"
          ],
          [
           0.625,
           "rgb(128,125,186)"
          ],
          [
           0.75,
           "rgb(106,81,163)"
          ],
          [
           0.875,
           "rgb(84,39,143)"
          ],
          [
           1,
           "rgb(63,0,125)"
          ]
         ],
         "locationmode": "USA-states",
         "locations": [
          "ID",
          "FL",
          "GA",
          "HI",
          "IL",
          "IN",
          "IA",
          "KS",
          "KY",
          "LA",
          "ME",
          "MD",
          "MA",
          "MI",
          "MN",
          "MO",
          "MT",
          "NE",
          "NV",
          "NH",
          "NJ",
          "NM",
          "NY",
          "NC",
          "ND",
          "OH",
          "OR",
          "RI",
          "SC",
          "SD",
          "TN",
          "TX",
          "UT",
          "VT",
          "WA",
          "WY",
          "AR",
          "AL",
          "AK",
          "AZ",
          "CA",
          "CO",
          "CT",
          "DE",
          "DC"
         ],
         "type": "choropleth",
         "z": [
          36.1,
          42.1,
          36.5,
          38.9,
          37.9,
          37.6,
          38,
          36.5,
          38.7,
          36.5,
          44.5,
          38.5,
          39.5,
          39.7,
          37.9,
          38.4,
          40.1,
          36.3,
          37.9,
          42.7,
          39.5,
          37.7,
          38.4,
          38.7,
          35,
          39.3,
          39.2,
          40.2,
          39.1,
          36.8,
          38.6,
          34.5,
          30.7,
          43.1,
          37.7,
          37.2,
          38,
          39,
          33.5,
          37.5,
          36.4,
          36.7,
          40.9,
          40.6,
          33.9
         ]
        }
       ],
       "layout": {
        "annotations": [
         {
          "showarrow": false,
          "text": "*(EXCLUDES: Mississippi, Oklahoma, Virginia, West Virginia, Pennsylvania, Wisconsin)",
          "x": 0.1,
          "xref": "paper",
          "y": -0.1,
          "yref": "paper"
         }
        ],
        "geo": {
         "scope": "usa"
        },
        "template": {
         "data": {
          "bar": [
           {
            "error_x": {
             "color": "#2a3f5f"
            },
            "error_y": {
             "color": "#2a3f5f"
            },
            "marker": {
             "line": {
              "color": "#E5ECF6",
              "width": 0.5
             }
            },
            "type": "bar"
           }
          ],
          "barpolar": [
           {
            "marker": {
             "line": {
              "color": "#E5ECF6",
              "width": 0.5
             }
            },
            "type": "barpolar"
           }
          ],
          "carpet": [
           {
            "aaxis": {
             "endlinecolor": "#2a3f5f",
             "gridcolor": "white",
             "linecolor": "white",
             "minorgridcolor": "white",
             "startlinecolor": "#2a3f5f"
            },
            "baxis": {
             "endlinecolor": "#2a3f5f",
             "gridcolor": "white",
             "linecolor": "white",
             "minorgridcolor": "white",
             "startlinecolor": "#2a3f5f"
            },
            "type": "carpet"
           }
          ],
          "choropleth": [
           {
            "colorbar": {
             "outlinewidth": 0,
             "ticks": ""
            },
            "type": "choropleth"
           }
          ],
          "contour": [
           {
            "colorbar": {
             "outlinewidth": 0,
             "ticks": ""
            },
            "colorscale": [
             [
              0,
              "#0d0887"
             ],
             [
              0.1111111111111111,
              "#46039f"
             ],
             [
              0.2222222222222222,
              "#7201a8"
             ],
             [
              0.3333333333333333,
              "#9c179e"
             ],
             [
              0.4444444444444444,
              "#bd3786"
             ],
             [
              0.5555555555555556,
              "#d8576b"
             ],
             [
              0.6666666666666666,
              "#ed7953"
             ],
             [
              0.7777777777777778,
              "#fb9f3a"
             ],
             [
              0.8888888888888888,
              "#fdca26"
             ],
             [
              1,
              "#f0f921"
             ]
            ],
            "type": "contour"
           }
          ],
          "contourcarpet": [
           {
            "colorbar": {
             "outlinewidth": 0,
             "ticks": ""
            },
            "type": "contourcarpet"
           }
          ],
          "heatmap": [
           {
            "colorbar": {
             "outlinewidth": 0,
             "ticks": ""
            },
            "colorscale": [
             [
              0,
              "#0d0887"
             ],
             [
              0.1111111111111111,
              "#46039f"
             ],
             [
              0.2222222222222222,
              "#7201a8"
             ],
             [
              0.3333333333333333,
              "#9c179e"
             ],
             [
              0.4444444444444444,
              "#bd3786"
             ],
             [
              0.5555555555555556,
              "#d8576b"
             ],
             [
              0.6666666666666666,
              "#ed7953"
             ],
             [
              0.7777777777777778,
              "#fb9f3a"
             ],
             [
              0.8888888888888888,
              "#fdca26"
             ],
             [
              1,
              "#f0f921"
             ]
            ],
            "type": "heatmap"
           }
          ],
          "heatmapgl": [
           {
            "colorbar": {
             "outlinewidth": 0,
             "ticks": ""
            },
            "colorscale": [
             [
              0,
              "#0d0887"
             ],
             [
              0.1111111111111111,
              "#46039f"
             ],
             [
              0.2222222222222222,
              "#7201a8"
             ],
             [
              0.3333333333333333,
              "#9c179e"
             ],
             [
              0.4444444444444444,
              "#bd3786"
             ],
             [
              0.5555555555555556,
              "#d8576b"
             ],
             [
              0.6666666666666666,
              "#ed7953"
             ],
             [
              0.7777777777777778,
              "#fb9f3a"
             ],
             [
              0.8888888888888888,
              "#fdca26"
             ],
             [
              1,
              "#f0f921"
             ]
            ],
            "type": "heatmapgl"
           }
          ],
          "histogram": [
           {
            "marker": {
             "colorbar": {
              "outlinewidth": 0,
              "ticks": ""
             }
            },
            "type": "histogram"
           }
          ],
          "histogram2d": [
           {
            "colorbar": {
             "outlinewidth": 0,
             "ticks": ""
            },
            "colorscale": [
             [
              0,
              "#0d0887"
             ],
             [
              0.1111111111111111,
              "#46039f"
             ],
             [
              0.2222222222222222,
              "#7201a8"
             ],
             [
              0.3333333333333333,
              "#9c179e"
             ],
             [
              0.4444444444444444,
              "#bd3786"
             ],
             [
              0.5555555555555556,
              "#d8576b"
             ],
             [
              0.6666666666666666,
              "#ed7953"
             ],
             [
              0.7777777777777778,
              "#fb9f3a"
             ],
             [
              0.8888888888888888,
              "#fdca26"
             ],
             [
              1,
              "#f0f921"
             ]
            ],
            "type": "histogram2d"
           }
          ],
          "histogram2dcontour": [
           {
            "colorbar": {
             "outlinewidth": 0,
             "ticks": ""
            },
            "colorscale": [
             [
              0,
              "#0d0887"
             ],
             [
              0.1111111111111111,
              "#46039f"
             ],
             [
              0.2222222222222222,
              "#7201a8"
             ],
             [
              0.3333333333333333,
              "#9c179e"
             ],
             [
              0.4444444444444444,
              "#bd3786"
             ],
             [
              0.5555555555555556,
              "#d8576b"
             ],
             [
              0.6666666666666666,
              "#ed7953"
             ],
             [
              0.7777777777777778,
              "#fb9f3a"
             ],
             [
              0.8888888888888888,
              "#fdca26"
             ],
             [
              1,
              "#f0f921"
             ]
            ],
            "type": "histogram2dcontour"
           }
          ],
          "mesh3d": [
           {
            "colorbar": {
             "outlinewidth": 0,
             "ticks": ""
            },
            "type": "mesh3d"
           }
          ],
          "parcoords": [
           {
            "line": {
             "colorbar": {
              "outlinewidth": 0,
              "ticks": ""
             }
            },
            "type": "parcoords"
           }
          ],
          "pie": [
           {
            "automargin": true,
            "type": "pie"
           }
          ],
          "scatter": [
           {
            "marker": {
             "colorbar": {
              "outlinewidth": 0,
              "ticks": ""
             }
            },
            "type": "scatter"
           }
          ],
          "scatter3d": [
           {
            "line": {
             "colorbar": {
              "outlinewidth": 0,
              "ticks": ""
             }
            },
            "marker": {
             "colorbar": {
              "outlinewidth": 0,
              "ticks": ""
             }
            },
            "type": "scatter3d"
           }
          ],
          "scattercarpet": [
           {
            "marker": {
             "colorbar": {
              "outlinewidth": 0,
              "ticks": ""
             }
            },
            "type": "scattercarpet"
           }
          ],
          "scattergeo": [
           {
            "marker": {
             "colorbar": {
              "outlinewidth": 0,
              "ticks": ""
             }
            },
            "type": "scattergeo"
           }
          ],
          "scattergl": [
           {
            "marker": {
             "colorbar": {
              "outlinewidth": 0,
              "ticks": ""
             }
            },
            "type": "scattergl"
           }
          ],
          "scattermapbox": [
           {
            "marker": {
             "colorbar": {
              "outlinewidth": 0,
              "ticks": ""
             }
            },
            "type": "scattermapbox"
           }
          ],
          "scatterpolar": [
           {
            "marker": {
             "colorbar": {
              "outlinewidth": 0,
              "ticks": ""
             }
            },
            "type": "scatterpolar"
           }
          ],
          "scatterpolargl": [
           {
            "marker": {
             "colorbar": {
              "outlinewidth": 0,
              "ticks": ""
             }
            },
            "type": "scatterpolargl"
           }
          ],
          "scatterternary": [
           {
            "marker": {
             "colorbar": {
              "outlinewidth": 0,
              "ticks": ""
             }
            },
            "type": "scatterternary"
           }
          ],
          "surface": [
           {
            "colorbar": {
             "outlinewidth": 0,
             "ticks": ""
            },
            "colorscale": [
             [
              0,
              "#0d0887"
             ],
             [
              0.1111111111111111,
              "#46039f"
             ],
             [
              0.2222222222222222,
              "#7201a8"
             ],
             [
              0.3333333333333333,
              "#9c179e"
             ],
             [
              0.4444444444444444,
              "#bd3786"
             ],
             [
              0.5555555555555556,
              "#d8576b"
             ],
             [
              0.6666666666666666,
              "#ed7953"
             ],
             [
              0.7777777777777778,
              "#fb9f3a"
             ],
             [
              0.8888888888888888,
              "#fdca26"
             ],
             [
              1,
              "#f0f921"
             ]
            ],
            "type": "surface"
           }
          ],
          "table": [
           {
            "cells": {
             "fill": {
              "color": "#EBF0F8"
             },
             "line": {
              "color": "white"
             }
            },
            "header": {
             "fill": {
              "color": "#C8D4E3"
             },
             "line": {
              "color": "white"
             }
            },
            "type": "table"
           }
          ]
         },
         "layout": {
          "annotationdefaults": {
           "arrowcolor": "#2a3f5f",
           "arrowhead": 0,
           "arrowwidth": 1
          },
          "coloraxis": {
           "colorbar": {
            "outlinewidth": 0,
            "ticks": ""
           }
          },
          "colorscale": {
           "diverging": [
            [
             0,
             "#8e0152"
            ],
            [
             0.1,
             "#c51b7d"
            ],
            [
             0.2,
             "#de77ae"
            ],
            [
             0.3,
             "#f1b6da"
            ],
            [
             0.4,
             "#fde0ef"
            ],
            [
             0.5,
             "#f7f7f7"
            ],
            [
             0.6,
             "#e6f5d0"
            ],
            [
             0.7,
             "#b8e186"
            ],
            [
             0.8,
             "#7fbc41"
            ],
            [
             0.9,
             "#4d9221"
            ],
            [
             1,
             "#276419"
            ]
           ],
           "sequential": [
            [
             0,
             "#0d0887"
            ],
            [
             0.1111111111111111,
             "#46039f"
            ],
            [
             0.2222222222222222,
             "#7201a8"
            ],
            [
             0.3333333333333333,
             "#9c179e"
            ],
            [
             0.4444444444444444,
             "#bd3786"
            ],
            [
             0.5555555555555556,
             "#d8576b"
            ],
            [
             0.6666666666666666,
             "#ed7953"
            ],
            [
             0.7777777777777778,
             "#fb9f3a"
            ],
            [
             0.8888888888888888,
             "#fdca26"
            ],
            [
             1,
             "#f0f921"
            ]
           ],
           "sequentialminus": [
            [
             0,
             "#0d0887"
            ],
            [
             0.1111111111111111,
             "#46039f"
            ],
            [
             0.2222222222222222,
             "#7201a8"
            ],
            [
             0.3333333333333333,
             "#9c179e"
            ],
            [
             0.4444444444444444,
             "#bd3786"
            ],
            [
             0.5555555555555556,
             "#d8576b"
            ],
            [
             0.6666666666666666,
             "#ed7953"
            ],
            [
             0.7777777777777778,
             "#fb9f3a"
            ],
            [
             0.8888888888888888,
             "#fdca26"
            ],
            [
             1,
             "#f0f921"
            ]
           ]
          },
          "colorway": [
           "#636efa",
           "#EF553B",
           "#00cc96",
           "#ab63fa",
           "#FFA15A",
           "#19d3f3",
           "#FF6692",
           "#B6E880",
           "#FF97FF",
           "#FECB52"
          ],
          "font": {
           "color": "#2a3f5f"
          },
          "geo": {
           "bgcolor": "white",
           "lakecolor": "white",
           "landcolor": "#E5ECF6",
           "showlakes": true,
           "showland": true,
           "subunitcolor": "white"
          },
          "hoverlabel": {
           "align": "left"
          },
          "hovermode": "closest",
          "mapbox": {
           "style": "light"
          },
          "paper_bgcolor": "white",
          "plot_bgcolor": "#E5ECF6",
          "polar": {
           "angularaxis": {
            "gridcolor": "white",
            "linecolor": "white",
            "ticks": ""
           },
           "bgcolor": "#E5ECF6",
           "radialaxis": {
            "gridcolor": "white",
            "linecolor": "white",
            "ticks": ""
           }
          },
          "scene": {
           "xaxis": {
            "backgroundcolor": "#E5ECF6",
            "gridcolor": "white",
            "gridwidth": 2,
            "linecolor": "white",
            "showbackground": true,
            "ticks": "",
            "zerolinecolor": "white"
           },
           "yaxis": {
            "backgroundcolor": "#E5ECF6",
            "gridcolor": "white",
            "gridwidth": 2,
            "linecolor": "white",
            "showbackground": true,
            "ticks": "",
            "zerolinecolor": "white"
           },
           "zaxis": {
            "backgroundcolor": "#E5ECF6",
            "gridcolor": "white",
            "gridwidth": 2,
            "linecolor": "white",
            "showbackground": true,
            "ticks": "",
            "zerolinecolor": "white"
           }
          },
          "shapedefaults": {
           "line": {
            "color": "#2a3f5f"
           }
          },
          "ternary": {
           "aaxis": {
            "gridcolor": "white",
            "linecolor": "white",
            "ticks": ""
           },
           "baxis": {
            "gridcolor": "white",
            "linecolor": "white",
            "ticks": ""
           },
           "bgcolor": "#E5ECF6",
           "caxis": {
            "gridcolor": "white",
            "linecolor": "white",
            "ticks": ""
           }
          },
          "title": {
           "x": 0.05
          },
          "xaxis": {
           "automargin": true,
           "gridcolor": "white",
           "linecolor": "white",
           "ticks": "",
           "title": {
            "standoff": 15
           },
           "zerolinecolor": "white",
           "zerolinewidth": 2
          },
          "yaxis": {
           "automargin": true,
           "gridcolor": "white",
           "linecolor": "white",
           "ticks": "",
           "title": {
            "standoff": 15
           },
           "zerolinecolor": "white",
           "zerolinewidth": 2
          }
         }
        },
        "title": {
         "text": "2016 Median Age by State*"
        }
       }
      },
      "text/html": [
       "<div>\n",
       "        \n",
       "        \n",
       "            <div id=\"381cb901-e5bc-4819-a502-8f81749c1b01\" class=\"plotly-graph-div\" style=\"height:525px; width:100%;\"></div>\n",
       "            <script type=\"text/javascript\">\n",
       "                require([\"plotly\"], function(Plotly) {\n",
       "                    window.PLOTLYENV=window.PLOTLYENV || {};\n",
       "                    \n",
       "                if (document.getElementById(\"381cb901-e5bc-4819-a502-8f81749c1b01\")) {\n",
       "                    Plotly.newPlot(\n",
       "                        '381cb901-e5bc-4819-a502-8f81749c1b01',\n",
       "                        [{\"colorbar\": {\"title\": {\"text\": \"Median Age<br>(Years)\"}}, \"colorscale\": [[0.0, \"rgb(252,251,253)\"], [0.125, \"rgb(239,237,245)\"], [0.25, \"rgb(218,218,235)\"], [0.375, \"rgb(188,189,220)\"], [0.5, \"rgb(158,154,200)\"], [0.625, \"rgb(128,125,186)\"], [0.75, \"rgb(106,81,163)\"], [0.875, \"rgb(84,39,143)\"], [1.0, \"rgb(63,0,125)\"]], \"locationmode\": \"USA-states\", \"locations\": [\"ID\", \"FL\", \"GA\", \"HI\", \"IL\", \"IN\", \"IA\", \"KS\", \"KY\", \"LA\", \"ME\", \"MD\", \"MA\", \"MI\", \"MN\", \"MO\", \"MT\", \"NE\", \"NV\", \"NH\", \"NJ\", \"NM\", \"NY\", \"NC\", \"ND\", \"OH\", \"OR\", \"RI\", \"SC\", \"SD\", \"TN\", \"TX\", \"UT\", \"VT\", \"WA\", \"WY\", \"AR\", \"AL\", \"AK\", \"AZ\", \"CA\", \"CO\", \"CT\", \"DE\", \"DC\"], \"type\": \"choropleth\", \"z\": [36.1, 42.1, 36.5, 38.9, 37.9, 37.6, 38.0, 36.5, 38.7, 36.5, 44.5, 38.5, 39.5, 39.7, 37.9, 38.4, 40.1, 36.3, 37.9, 42.7, 39.5, 37.7, 38.4, 38.7, 35.0, 39.3, 39.2, 40.2, 39.1, 36.8, 38.6, 34.5, 30.7, 43.1, 37.7, 37.2, 38.0, 39.0, 33.5, 37.5, 36.4, 36.7, 40.9, 40.6, 33.9]}],\n",
       "                        {\"annotations\": [{\"showarrow\": false, \"text\": \"*(EXCLUDES: Mississippi, Oklahoma, Virginia, West Virginia, Pennsylvania, Wisconsin)\", \"x\": 0.1, \"xref\": \"paper\", \"y\": -0.1, \"yref\": \"paper\"}], \"geo\": {\"scope\": \"usa\"}, \"template\": {\"data\": {\"bar\": [{\"error_x\": {\"color\": \"#2a3f5f\"}, \"error_y\": {\"color\": \"#2a3f5f\"}, \"marker\": {\"line\": {\"color\": \"#E5ECF6\", \"width\": 0.5}}, \"type\": \"bar\"}], \"barpolar\": [{\"marker\": {\"line\": {\"color\": \"#E5ECF6\", \"width\": 0.5}}, \"type\": \"barpolar\"}], \"carpet\": [{\"aaxis\": {\"endlinecolor\": \"#2a3f5f\", \"gridcolor\": \"white\", \"linecolor\": \"white\", \"minorgridcolor\": \"white\", \"startlinecolor\": \"#2a3f5f\"}, \"baxis\": {\"endlinecolor\": \"#2a3f5f\", \"gridcolor\": \"white\", \"linecolor\": \"white\", \"minorgridcolor\": \"white\", \"startlinecolor\": \"#2a3f5f\"}, \"type\": \"carpet\"}], \"choropleth\": [{\"colorbar\": {\"outlinewidth\": 0, \"ticks\": \"\"}, \"type\": \"choropleth\"}], \"contour\": [{\"colorbar\": {\"outlinewidth\": 0, \"ticks\": \"\"}, \"colorscale\": [[0.0, \"#0d0887\"], [0.1111111111111111, \"#46039f\"], [0.2222222222222222, \"#7201a8\"], [0.3333333333333333, \"#9c179e\"], [0.4444444444444444, \"#bd3786\"], [0.5555555555555556, \"#d8576b\"], [0.6666666666666666, \"#ed7953\"], [0.7777777777777778, \"#fb9f3a\"], [0.8888888888888888, \"#fdca26\"], [1.0, \"#f0f921\"]], \"type\": \"contour\"}], \"contourcarpet\": [{\"colorbar\": {\"outlinewidth\": 0, \"ticks\": \"\"}, \"type\": \"contourcarpet\"}], \"heatmap\": [{\"colorbar\": {\"outlinewidth\": 0, \"ticks\": \"\"}, \"colorscale\": [[0.0, \"#0d0887\"], [0.1111111111111111, \"#46039f\"], [0.2222222222222222, \"#7201a8\"], [0.3333333333333333, \"#9c179e\"], [0.4444444444444444, \"#bd3786\"], [0.5555555555555556, \"#d8576b\"], [0.6666666666666666, \"#ed7953\"], [0.7777777777777778, \"#fb9f3a\"], [0.8888888888888888, \"#fdca26\"], [1.0, \"#f0f921\"]], \"type\": \"heatmap\"}], \"heatmapgl\": [{\"colorbar\": {\"outlinewidth\": 0, \"ticks\": \"\"}, \"colorscale\": [[0.0, \"#0d0887\"], [0.1111111111111111, \"#46039f\"], [0.2222222222222222, \"#7201a8\"], [0.3333333333333333, \"#9c179e\"], [0.4444444444444444, \"#bd3786\"], [0.5555555555555556, \"#d8576b\"], [0.6666666666666666, \"#ed7953\"], [0.7777777777777778, \"#fb9f3a\"], [0.8888888888888888, \"#fdca26\"], [1.0, \"#f0f921\"]], \"type\": \"heatmapgl\"}], \"histogram\": [{\"marker\": {\"colorbar\": {\"outlinewidth\": 0, \"ticks\": \"\"}}, \"type\": \"histogram\"}], \"histogram2d\": [{\"colorbar\": {\"outlinewidth\": 0, \"ticks\": \"\"}, \"colorscale\": [[0.0, \"#0d0887\"], [0.1111111111111111, \"#46039f\"], [0.2222222222222222, \"#7201a8\"], [0.3333333333333333, \"#9c179e\"], [0.4444444444444444, \"#bd3786\"], [0.5555555555555556, \"#d8576b\"], [0.6666666666666666, \"#ed7953\"], [0.7777777777777778, \"#fb9f3a\"], [0.8888888888888888, \"#fdca26\"], [1.0, \"#f0f921\"]], \"type\": \"histogram2d\"}], \"histogram2dcontour\": [{\"colorbar\": {\"outlinewidth\": 0, \"ticks\": \"\"}, \"colorscale\": [[0.0, \"#0d0887\"], [0.1111111111111111, \"#46039f\"], [0.2222222222222222, \"#7201a8\"], [0.3333333333333333, \"#9c179e\"], [0.4444444444444444, \"#bd3786\"], [0.5555555555555556, \"#d8576b\"], [0.6666666666666666, \"#ed7953\"], [0.7777777777777778, \"#fb9f3a\"], [0.8888888888888888, \"#fdca26\"], [1.0, \"#f0f921\"]], \"type\": \"histogram2dcontour\"}], \"mesh3d\": [{\"colorbar\": {\"outlinewidth\": 0, \"ticks\": \"\"}, \"type\": \"mesh3d\"}], \"parcoords\": [{\"line\": {\"colorbar\": {\"outlinewidth\": 0, \"ticks\": \"\"}}, \"type\": \"parcoords\"}], \"pie\": [{\"automargin\": true, \"type\": \"pie\"}], \"scatter\": [{\"marker\": {\"colorbar\": {\"outlinewidth\": 0, \"ticks\": \"\"}}, \"type\": \"scatter\"}], \"scatter3d\": [{\"line\": {\"colorbar\": {\"outlinewidth\": 0, \"ticks\": \"\"}}, \"marker\": {\"colorbar\": {\"outlinewidth\": 0, \"ticks\": \"\"}}, \"type\": \"scatter3d\"}], \"scattercarpet\": [{\"marker\": {\"colorbar\": {\"outlinewidth\": 0, \"ticks\": \"\"}}, \"type\": \"scattercarpet\"}], \"scattergeo\": [{\"marker\": {\"colorbar\": {\"outlinewidth\": 0, \"ticks\": \"\"}}, \"type\": \"scattergeo\"}], \"scattergl\": [{\"marker\": {\"colorbar\": {\"outlinewidth\": 0, \"ticks\": \"\"}}, \"type\": \"scattergl\"}], \"scattermapbox\": [{\"marker\": {\"colorbar\": {\"outlinewidth\": 0, \"ticks\": \"\"}}, \"type\": \"scattermapbox\"}], \"scatterpolar\": [{\"marker\": {\"colorbar\": {\"outlinewidth\": 0, \"ticks\": \"\"}}, \"type\": \"scatterpolar\"}], \"scatterpolargl\": [{\"marker\": {\"colorbar\": {\"outlinewidth\": 0, \"ticks\": \"\"}}, \"type\": \"scatterpolargl\"}], \"scatterternary\": [{\"marker\": {\"colorbar\": {\"outlinewidth\": 0, \"ticks\": \"\"}}, \"type\": \"scatterternary\"}], \"surface\": [{\"colorbar\": {\"outlinewidth\": 0, \"ticks\": \"\"}, \"colorscale\": [[0.0, \"#0d0887\"], [0.1111111111111111, \"#46039f\"], [0.2222222222222222, \"#7201a8\"], [0.3333333333333333, \"#9c179e\"], [0.4444444444444444, \"#bd3786\"], [0.5555555555555556, \"#d8576b\"], [0.6666666666666666, \"#ed7953\"], [0.7777777777777778, \"#fb9f3a\"], [0.8888888888888888, \"#fdca26\"], [1.0, \"#f0f921\"]], \"type\": \"surface\"}], \"table\": [{\"cells\": {\"fill\": {\"color\": \"#EBF0F8\"}, \"line\": {\"color\": \"white\"}}, \"header\": {\"fill\": {\"color\": \"#C8D4E3\"}, \"line\": {\"color\": \"white\"}}, \"type\": \"table\"}]}, \"layout\": {\"annotationdefaults\": {\"arrowcolor\": \"#2a3f5f\", \"arrowhead\": 0, \"arrowwidth\": 1}, \"coloraxis\": {\"colorbar\": {\"outlinewidth\": 0, \"ticks\": \"\"}}, \"colorscale\": {\"diverging\": [[0, \"#8e0152\"], [0.1, \"#c51b7d\"], [0.2, \"#de77ae\"], [0.3, \"#f1b6da\"], [0.4, \"#fde0ef\"], [0.5, \"#f7f7f7\"], [0.6, \"#e6f5d0\"], [0.7, \"#b8e186\"], [0.8, \"#7fbc41\"], [0.9, \"#4d9221\"], [1, \"#276419\"]], \"sequential\": [[0.0, \"#0d0887\"], [0.1111111111111111, \"#46039f\"], [0.2222222222222222, \"#7201a8\"], [0.3333333333333333, \"#9c179e\"], [0.4444444444444444, \"#bd3786\"], [0.5555555555555556, \"#d8576b\"], [0.6666666666666666, \"#ed7953\"], [0.7777777777777778, \"#fb9f3a\"], [0.8888888888888888, \"#fdca26\"], [1.0, \"#f0f921\"]], \"sequentialminus\": [[0.0, \"#0d0887\"], [0.1111111111111111, \"#46039f\"], [0.2222222222222222, \"#7201a8\"], [0.3333333333333333, \"#9c179e\"], [0.4444444444444444, \"#bd3786\"], [0.5555555555555556, \"#d8576b\"], [0.6666666666666666, \"#ed7953\"], [0.7777777777777778, \"#fb9f3a\"], [0.8888888888888888, \"#fdca26\"], [1.0, \"#f0f921\"]]}, \"colorway\": [\"#636efa\", \"#EF553B\", \"#00cc96\", \"#ab63fa\", \"#FFA15A\", \"#19d3f3\", \"#FF6692\", \"#B6E880\", \"#FF97FF\", \"#FECB52\"], \"font\": {\"color\": \"#2a3f5f\"}, \"geo\": {\"bgcolor\": \"white\", \"lakecolor\": \"white\", \"landcolor\": \"#E5ECF6\", \"showlakes\": true, \"showland\": true, \"subunitcolor\": \"white\"}, \"hoverlabel\": {\"align\": \"left\"}, \"hovermode\": \"closest\", \"mapbox\": {\"style\": \"light\"}, \"paper_bgcolor\": \"white\", \"plot_bgcolor\": \"#E5ECF6\", \"polar\": {\"angularaxis\": {\"gridcolor\": \"white\", \"linecolor\": \"white\", \"ticks\": \"\"}, \"bgcolor\": \"#E5ECF6\", \"radialaxis\": {\"gridcolor\": \"white\", \"linecolor\": \"white\", \"ticks\": \"\"}}, \"scene\": {\"xaxis\": {\"backgroundcolor\": \"#E5ECF6\", \"gridcolor\": \"white\", \"gridwidth\": 2, \"linecolor\": \"white\", \"showbackground\": true, \"ticks\": \"\", \"zerolinecolor\": \"white\"}, \"yaxis\": {\"backgroundcolor\": \"#E5ECF6\", \"gridcolor\": \"white\", \"gridwidth\": 2, \"linecolor\": \"white\", \"showbackground\": true, \"ticks\": \"\", \"zerolinecolor\": \"white\"}, \"zaxis\": {\"backgroundcolor\": \"#E5ECF6\", \"gridcolor\": \"white\", \"gridwidth\": 2, \"linecolor\": \"white\", \"showbackground\": true, \"ticks\": \"\", \"zerolinecolor\": \"white\"}}, \"shapedefaults\": {\"line\": {\"color\": \"#2a3f5f\"}}, \"ternary\": {\"aaxis\": {\"gridcolor\": \"white\", \"linecolor\": \"white\", \"ticks\": \"\"}, \"baxis\": {\"gridcolor\": \"white\", \"linecolor\": \"white\", \"ticks\": \"\"}, \"bgcolor\": \"#E5ECF6\", \"caxis\": {\"gridcolor\": \"white\", \"linecolor\": \"white\", \"ticks\": \"\"}}, \"title\": {\"x\": 0.05}, \"xaxis\": {\"automargin\": true, \"gridcolor\": \"white\", \"linecolor\": \"white\", \"ticks\": \"\", \"title\": {\"standoff\": 15}, \"zerolinecolor\": \"white\", \"zerolinewidth\": 2}, \"yaxis\": {\"automargin\": true, \"gridcolor\": \"white\", \"linecolor\": \"white\", \"ticks\": \"\", \"title\": {\"standoff\": 15}, \"zerolinecolor\": \"white\", \"zerolinewidth\": 2}}}, \"title\": {\"text\": \"2016 Median Age by State*\"}},\n",
       "                        {\"responsive\": true}\n",
       "                    ).then(function(){\n",
       "                            \n",
       "var gd = document.getElementById('381cb901-e5bc-4819-a502-8f81749c1b01');\n",
       "var x = new MutationObserver(function (mutations, observer) {{\n",
       "        var display = window.getComputedStyle(gd).display;\n",
       "        if (!display || display === 'none') {{\n",
       "            console.log([gd, 'removed!']);\n",
       "            Plotly.purge(gd);\n",
       "            observer.disconnect();\n",
       "        }}\n",
       "}});\n",
       "\n",
       "// Listen for the removal of the full notebook cells\n",
       "var notebookContainer = gd.closest('#notebook-container');\n",
       "if (notebookContainer) {{\n",
       "    x.observe(notebookContainer, {childList: true});\n",
       "}}\n",
       "\n",
       "// Listen for the clearing of the current output cell\n",
       "var outputEl = gd.closest('.output');\n",
       "if (outputEl) {{\n",
       "    x.observe(outputEl, {childList: true});\n",
       "}}\n",
       "\n",
       "                        })\n",
       "                };\n",
       "                });\n",
       "            </script>\n",
       "        </div>"
      ]
     },
     "metadata": {},
     "output_type": "display_data"
    }
   ],
   "source": [
    "# Create US map based on Median Age\n",
    "fig2 = go.Figure(data=go.Choropleth(\n",
    "    locations=map_data_2016_df['Abbrv'], # Spatial coordinates\n",
    "    z = map_data_2016_df['Median Age'],#.astype(float), # Data to be color-coded\n",
    "    locationmode = 'USA-states', # set of locations match entries in `locations`\n",
    "    colorscale = 'Purples',\n",
    "    #colorbar_ticksuffix = '%',\n",
    "    colorbar_title = \"Median Age<br>(Years)\",\n",
    "))\n",
    "\n",
    "fig2.update_layout(\n",
    "    title_text = '2016 Median Age by State*',\n",
    "    geo_scope='usa', # limite map scope to USA\n",
    "        annotations = [dict(\n",
    "        x=0.1,\n",
    "        y=-0.1,\n",
    "        xref='paper',\n",
    "        yref='paper',\n",
    "        text='*(EXCLUDES: Mississippi, Oklahoma, Virginia, West Virginia, Pennsylvania, Wisconsin)',\n",
    "        showarrow = False\n",
    "    )]\n",
    ")\n",
    "\n",
    "fig2.show()"
   ]
  },
  {
   "cell_type": "code",
   "execution_count": 16,
   "metadata": {},
   "outputs": [
    {
     "data": {
      "text/html": [
       "<div>\n",
       "<style scoped>\n",
       "    .dataframe tbody tr th:only-of-type {\n",
       "        vertical-align: middle;\n",
       "    }\n",
       "\n",
       "    .dataframe tbody tr th {\n",
       "        vertical-align: top;\n",
       "    }\n",
       "\n",
       "    .dataframe thead th {\n",
       "        text-align: right;\n",
       "    }\n",
       "</style>\n",
       "<table border=\"1\" class=\"dataframe\">\n",
       "  <thead>\n",
       "    <tr style=\"text-align: right;\">\n",
       "      <th></th>\n",
       "      <th>Year</th>\n",
       "      <th>Abbrv</th>\n",
       "      <th>Total Ballots Counted (Estimate)</th>\n",
       "      <th>Voting-Eligible Population (VEP)</th>\n",
       "    </tr>\n",
       "  </thead>\n",
       "  <tbody>\n",
       "    <tr>\n",
       "      <th>0</th>\n",
       "      <td>2016</td>\n",
       "      <td>OR</td>\n",
       "      <td>2056310.0</td>\n",
       "      <td>3024174</td>\n",
       "    </tr>\n",
       "    <tr>\n",
       "      <th>1</th>\n",
       "      <td>2014</td>\n",
       "      <td>OR</td>\n",
       "      <td>1541782.0</td>\n",
       "      <td>2887517</td>\n",
       "    </tr>\n",
       "    <tr>\n",
       "      <th>2</th>\n",
       "      <td>2012</td>\n",
       "      <td>OR</td>\n",
       "      <td>1820507.0</td>\n",
       "      <td>2836101</td>\n",
       "    </tr>\n",
       "    <tr>\n",
       "      <th>3</th>\n",
       "      <td>2010</td>\n",
       "      <td>OR</td>\n",
       "      <td>1487210.0</td>\n",
       "      <td>2760607</td>\n",
       "    </tr>\n",
       "    <tr>\n",
       "      <th>4</th>\n",
       "      <td>2008</td>\n",
       "      <td>OR</td>\n",
       "      <td>1845251.0</td>\n",
       "      <td>2700327</td>\n",
       "    </tr>\n",
       "    <tr>\n",
       "      <th>5</th>\n",
       "      <td>2006</td>\n",
       "      <td>OR</td>\n",
       "      <td>1399650.0</td>\n",
       "      <td>2628937</td>\n",
       "    </tr>\n",
       "    <tr>\n",
       "      <th>6</th>\n",
       "      <td>2004</td>\n",
       "      <td>OR</td>\n",
       "      <td>1851671.0</td>\n",
       "      <td>2550887</td>\n",
       "    </tr>\n",
       "    <tr>\n",
       "      <th>7</th>\n",
       "      <td>2002</td>\n",
       "      <td>OR</td>\n",
       "      <td>1293756.0</td>\n",
       "      <td>2495739</td>\n",
       "    </tr>\n",
       "    <tr>\n",
       "      <th>8</th>\n",
       "      <td>2000</td>\n",
       "      <td>OR</td>\n",
       "      <td>1559215.0</td>\n",
       "      <td>2364402</td>\n",
       "    </tr>\n",
       "    <tr>\n",
       "      <th>9</th>\n",
       "      <td>1998</td>\n",
       "      <td>OR</td>\n",
       "      <td>1160400.0</td>\n",
       "      <td>2370381</td>\n",
       "    </tr>\n",
       "    <tr>\n",
       "      <th>10</th>\n",
       "      <td>1996</td>\n",
       "      <td>OR</td>\n",
       "      <td>1399180.0</td>\n",
       "      <td>2309051</td>\n",
       "    </tr>\n",
       "    <tr>\n",
       "      <th>11</th>\n",
       "      <td>1994</td>\n",
       "      <td>OR</td>\n",
       "      <td>1254265.0</td>\n",
       "      <td>2229242</td>\n",
       "    </tr>\n",
       "    <tr>\n",
       "      <th>12</th>\n",
       "      <td>1992</td>\n",
       "      <td>OR</td>\n",
       "      <td>1498959.0</td>\n",
       "      <td>2144867</td>\n",
       "    </tr>\n",
       "    <tr>\n",
       "      <th>13</th>\n",
       "      <td>1990</td>\n",
       "      <td>OR</td>\n",
       "      <td>1133125.0</td>\n",
       "      <td>2057833</td>\n",
       "    </tr>\n",
       "    <tr>\n",
       "      <th>14</th>\n",
       "      <td>1988</td>\n",
       "      <td>OR</td>\n",
       "      <td>1235199.0</td>\n",
       "      <td>1982355</td>\n",
       "    </tr>\n",
       "    <tr>\n",
       "      <th>15</th>\n",
       "      <td>1986</td>\n",
       "      <td>OR</td>\n",
       "      <td>1088140.0</td>\n",
       "      <td>1928782</td>\n",
       "    </tr>\n",
       "    <tr>\n",
       "      <th>16</th>\n",
       "      <td>1984</td>\n",
       "      <td>OR</td>\n",
       "      <td>1265824.0</td>\n",
       "      <td>1906880</td>\n",
       "    </tr>\n",
       "    <tr>\n",
       "      <th>17</th>\n",
       "      <td>1982</td>\n",
       "      <td>OR</td>\n",
       "      <td>1063913.0</td>\n",
       "      <td>1895706</td>\n",
       "    </tr>\n",
       "    <tr>\n",
       "      <th>18</th>\n",
       "      <td>1980</td>\n",
       "      <td>OR</td>\n",
       "      <td>1209691.0</td>\n",
       "      <td>1880863</td>\n",
       "    </tr>\n",
       "  </tbody>\n",
       "</table>\n",
       "</div>"
      ],
      "text/plain": [
       "    Year Abbrv  Total Ballots Counted (Estimate)  \\\n",
       "0   2016    OR                         2056310.0   \n",
       "1   2014    OR                         1541782.0   \n",
       "2   2012    OR                         1820507.0   \n",
       "3   2010    OR                         1487210.0   \n",
       "4   2008    OR                         1845251.0   \n",
       "5   2006    OR                         1399650.0   \n",
       "6   2004    OR                         1851671.0   \n",
       "7   2002    OR                         1293756.0   \n",
       "8   2000    OR                         1559215.0   \n",
       "9   1998    OR                         1160400.0   \n",
       "10  1996    OR                         1399180.0   \n",
       "11  1994    OR                         1254265.0   \n",
       "12  1992    OR                         1498959.0   \n",
       "13  1990    OR                         1133125.0   \n",
       "14  1988    OR                         1235199.0   \n",
       "15  1986    OR                         1088140.0   \n",
       "16  1984    OR                         1265824.0   \n",
       "17  1982    OR                         1063913.0   \n",
       "18  1980    OR                         1209691.0   \n",
       "\n",
       "    Voting-Eligible Population (VEP)  \n",
       "0                            3024174  \n",
       "1                            2887517  \n",
       "2                            2836101  \n",
       "3                            2760607  \n",
       "4                            2700327  \n",
       "5                            2628937  \n",
       "6                            2550887  \n",
       "7                            2495739  \n",
       "8                            2364402  \n",
       "9                            2370381  \n",
       "10                           2309051  \n",
       "11                           2229242  \n",
       "12                           2144867  \n",
       "13                           2057833  \n",
       "14                           1982355  \n",
       "15                           1928782  \n",
       "16                           1906880  \n",
       "17                           1895706  \n",
       "18                           1880863  "
      ]
     },
     "execution_count": 16,
     "metadata": {},
     "output_type": "execute_result"
    }
   ],
   "source": [
    "# Import data for just Oregon and create dataframe\n",
    "voter_data = \"voter_data.csv\"\n",
    "voter_data_df = pd.read_csv(voter_data, encoding=\"utf-8\")\n",
    "\n",
    "# Remove unnecessary columns and filter to just return Oregon data\n",
    "or_data_df = pd.DataFrame(voter_data_df[[\"Year\", \"Abbrv\", \"Total Ballots Counted (Estimate)\", \"Voting-Eligible Population (VEP)\"]])\n",
    "or_only_data_df = or_data_df.loc[(or_data_df[\"Abbrv\"] == \"OR\")].reset_index(drop=True)\n",
    "or_only_data_df"
   ]
  },
  {
   "cell_type": "code",
   "execution_count": 22,
   "metadata": {},
   "outputs": [
    {
     "data": {
      "text/html": [
       "<div>\n",
       "<style scoped>\n",
       "    .dataframe tbody tr th:only-of-type {\n",
       "        vertical-align: middle;\n",
       "    }\n",
       "\n",
       "    .dataframe tbody tr th {\n",
       "        vertical-align: top;\n",
       "    }\n",
       "\n",
       "    .dataframe thead th {\n",
       "        text-align: right;\n",
       "    }\n",
       "</style>\n",
       "<table border=\"1\" class=\"dataframe\">\n",
       "  <thead>\n",
       "    <tr style=\"text-align: right;\">\n",
       "      <th></th>\n",
       "      <th>State</th>\n",
       "      <th>Pre VBM - Mean Turnout</th>\n",
       "      <th>Post VBM - Mean Turnout</th>\n",
       "      <th>Overall - Mean Turnout</th>\n",
       "      <th>Gross Change in Turnout (1980 - 2016)</th>\n",
       "    </tr>\n",
       "  </thead>\n",
       "  <tbody>\n",
       "    <tr>\n",
       "      <th>0</th>\n",
       "      <td>Oregon</td>\n",
       "      <td>0.61</td>\n",
       "      <td>0.61</td>\n",
       "      <td>0.60</td>\n",
       "      <td>0.04</td>\n",
       "    </tr>\n",
       "    <tr>\n",
       "      <th>1</th>\n",
       "      <td>Washington</td>\n",
       "      <td>0.54</td>\n",
       "      <td>0.57</td>\n",
       "      <td>0.55</td>\n",
       "      <td>0.05</td>\n",
       "    </tr>\n",
       "    <tr>\n",
       "      <th>2</th>\n",
       "      <td>Colorado</td>\n",
       "      <td>0.56</td>\n",
       "      <td>0.63</td>\n",
       "      <td>0.57</td>\n",
       "      <td>0.13</td>\n",
       "    </tr>\n",
       "    <tr>\n",
       "      <th>3</th>\n",
       "      <td>Utah</td>\n",
       "      <td>0.51</td>\n",
       "      <td>0.44</td>\n",
       "      <td>0.51</td>\n",
       "      <td>-0.09</td>\n",
       "    </tr>\n",
       "    <tr>\n",
       "      <th>4</th>\n",
       "      <td>Hawaii</td>\n",
       "      <td>N/A</td>\n",
       "      <td>N/A</td>\n",
       "      <td>0.46</td>\n",
       "      <td>-0.06</td>\n",
       "    </tr>\n",
       "    <tr>\n",
       "      <th>5</th>\n",
       "      <td>Non-VBM States</td>\n",
       "      <td>N/A</td>\n",
       "      <td>N/A</td>\n",
       "      <td>0.52</td>\n",
       "      <td>-0.04</td>\n",
       "    </tr>\n",
       "    <tr>\n",
       "      <th>6</th>\n",
       "      <td>All States</td>\n",
       "      <td>N/A</td>\n",
       "      <td>N/A</td>\n",
       "      <td>0.52</td>\n",
       "      <td>0.03</td>\n",
       "    </tr>\n",
       "  </tbody>\n",
       "</table>\n",
       "</div>"
      ],
      "text/plain": [
       "            State Pre VBM - Mean Turnout Post VBM - Mean Turnout  \\\n",
       "0          Oregon                   0.61                    0.61   \n",
       "1      Washington                   0.54                    0.57   \n",
       "2        Colorado                   0.56                    0.63   \n",
       "3            Utah                   0.51                    0.44   \n",
       "4          Hawaii                    N/A                     N/A   \n",
       "5  Non-VBM States                    N/A                     N/A   \n",
       "6      All States                    N/A                     N/A   \n",
       "\n",
       "   Overall - Mean Turnout  Gross Change in Turnout (1980 - 2016)  \n",
       "0                    0.60                                   0.04  \n",
       "1                    0.55                                   0.05  \n",
       "2                    0.57                                   0.13  \n",
       "3                    0.51                                  -0.09  \n",
       "4                    0.46                                  -0.06  \n",
       "5                    0.52                                  -0.04  \n",
       "6                    0.52                                   0.03  "
      ]
     },
     "execution_count": 22,
     "metadata": {},
     "output_type": "execute_result"
    }
   ],
   "source": [
    "a = \"N/A\"\n",
    "vbm_mean_comp = pd.DataFrame({\n",
    "    \"State\":[\"Oregon\",\"Washington\",\"Colorado\",\"Utah\",\"Hawaii\",\"Non-VBM States\",\"All States\"],\n",
    "    \"Pre VBM - Mean Turnout\":[or_bef,wa_bef,co_bef,ut_bef,a,a,a],\n",
    "    \"Post VBM - Mean Turnout\":[or_aft,wa_aft,co_aft,ut_aft,a,a,a],\n",
    "    \"Overall - Mean Turnout\":[or_mean,wa_mean,co_mean,ut_mean,hi_mean,non_mean,all_mean],\n",
    "    \"Gross Change in Turnout (1980 - 2016)\":[or_del,wa_del,co_del,ut_del,hi_del,non_del,all_del]\n",
    "})\n",
    "yticks = np.arange(0.35,0.85,0.10)\n",
    "a = 0\n",
    "for i in yticks:\n",
    "    yticks[a]=round(yticks[a],2)\n",
    "    a=a+1\n",
    "vbm_mean_comp"
   ]
  },
  {
   "cell_type": "code",
   "execution_count": 46,
   "metadata": {},
   "outputs": [
    {
     "data": {
      "image/png": "[encoded data removed]",
      "text/plain": [
       "<Figure size 432x288 with 1 Axes>"
      ]
     },
     "metadata": {
      "needs_background": "light"
     },
     "output_type": "display_data"
    },
    {
     "data": {
      "text/plain": [
       "<Figure size 432x288 with 0 Axes>"
      ]
     },
     "metadata": {},
     "output_type": "display_data"
    }
   ],
   "source": [
    "# Plot the data in a line plot\n",
    "# Create a list of the years to use as the x-axis\n",
    "years = or_only_data_df[\"Year\"]\n",
    "\n",
    "# Create a list of ballot counts and voting eligible population for the y-axis\n",
    "ballot_count = or_only_data_df[\"Total Ballots Counted (Estimate)\"]\n",
    "population = or_only_data_df[\"Voting-Eligible Population (VEP)\"]\n",
    "\n",
    "# Plot the line that will be used to track OR Ballot Counts over the years\n",
    "plt.plot(years, ballot_count, color=\"green\", label=\"Ballot Count\")\n",
    "\n",
    "# Plot the line that will be used to track OR Voting Eligible Population over the years\n",
    "plt.plot(years, population, color=\"blue\", label=\"Eligible Voting Population\")\n",
    "\n",
    "# Place a legend on the chart in what matplotlib believes to be the \"best\" location\n",
    "plt.legend(loc=\"best\")\n",
    "\n",
    "plt.title(\"Oregon Ballot Counts vs. Voting Eligible Population for 1980-2016 Elections\")\n",
    "plt.xticks(years, rotation=90)\n",
    "plt.xlabel(\"Years\")\n",
    "plt.ylabel(\"Ballot Count/Voting Eligible Population\")\n",
    "\n",
    "# Add vertical line to mark when VBM went into affect\n",
    "plt.axvline(x=1998,c=\"goldenrod\")\n",
    "plt.grid()\n",
    "\n",
    "# Print the chart to the screen\n",
    "plt.show()\n",
    "plt.savefig('Visualizations/or_gross.png')"
   ]
  },
  {
   "cell_type": "code",
   "execution_count": 19,
   "metadata": {},
   "outputs": [],
   "source": [
    "#Same chart as above for each other VBM state (WA, CO, UT, HI?, National/NonVBM)"
   ]
  },
  {
   "cell_type": "code",
   "execution_count": 24,
   "metadata": {},
   "outputs": [
    {
     "data": {
      "image/png": "[encoded data removed]",
      "text/plain": [
       "<Figure size 432x288 with 1 Axes>"
      ]
     },
     "metadata": {
      "needs_background": "light"
     },
     "output_type": "display_data"
    }
   ],
   "source": [
    "#Oregon\n",
    "fig1, ax1 = plt.subplots()\n",
    "ax1.set_xticks(years)\n",
    "ax1.set_xticklabels(years,rotation=\"vertical\")\n",
    "ax1.set_title(\"Oregon Voter Turnout\")\n",
    "ax1.set_ylabel('Voter Turnout % (EVP)')\n",
    "ax1.set_xlabel('Year')\n",
    "ax1.axvline(x=1998, ymin=0.0, ymax=1, color=\"gold\")\n",
    "ax1.plot(avg_nonvbm.index,avg_nonvbm[\"VEP Total Ballots Counted\"],color=\"black\")\n",
    "ax1.plot(voter_data.loc[voter_data[\"State\"]==\"Oregon\",\"Year\"],voter_data.loc[voter_data[\"State\"]==\"Oregon\",\"VEP Total Ballots Counted\"],color=\"blue\")\n",
    "ax1.set_yticks(yticks)\n",
    "ax1.set_yticklabels(yticks)\n",
    "ax1.legend([\"Year of VBM Intro\",\"Non-VBM State AVG\",\"Oregon\"],loc=\"lower left\")\n",
    "plt.grid()\n",
    "plt.show()"
   ]
  },
  {
   "cell_type": "code",
   "execution_count": 27,
   "metadata": {},
   "outputs": [
    {
     "data": {
      "image/png": "[encoded data removed]",
      "text/plain": [
       "<Figure size 432x288 with 1 Axes>"
      ]
     },
     "metadata": {
      "needs_background": "light"
     },
     "output_type": "display_data"
    }
   ],
   "source": [
    "#Washington\n",
    "fig2, ax1 = plt.subplots()\n",
    "ax1.set_xticks(years)\n",
    "ax1.set_xticklabels(years,rotation=\"vertical\")\n",
    "ax1.set_title(\"Washington Voter Turnout\")\n",
    "ax1.set_ylabel('Voter Turnout % (EVP)')\n",
    "ax1.set_xlabel('Year')\n",
    "ax1.axvline(x=2005, ymin=0.0, ymax=1, color=\"gold\")\n",
    "ax1.plot(avg_nonvbm.index,avg_nonvbm[\"VEP Total Ballots Counted\"],color=\"black\")\n",
    "ax1.plot(voter_data.loc[voter_data[\"State\"]==\"Washington\",\"Year\"],voter_data.loc[voter_data[\"State\"]==\"Washington\",\"VEP Total Ballots Counted\"],color=\"green\")\n",
    "ax1.set_yticks(yticks)\n",
    "ax1.set_yticklabels(yticks)\n",
    "ax1.legend([\"Year of VBM Intro\",\"Non-VBM State AVG\",\"Washington\"],loc=\"lower left\")\n",
    "plt.grid()\n",
    "plt.show()"
   ]
  },
  {
   "cell_type": "code",
   "execution_count": 28,
   "metadata": {},
   "outputs": [
    {
     "data": {
      "image/png": "[encoded data removed]",
      "text/plain": [
       "<Figure size 432x288 with 1 Axes>"
      ]
     },
     "metadata": {
      "needs_background": "light"
     },
     "output_type": "display_data"
    }
   ],
   "source": [
    "#Colorado\n",
    "fig3, ax1 = plt.subplots()\n",
    "ax1.set_xticks(years)\n",
    "ax1.set_xticklabels(years,rotation=\"vertical\")\n",
    "ax1.set_title(\"Colorado Voter Turnout\")\n",
    "ax1.set_ylabel('Voter Turnout % (EVP)')\n",
    "ax1.set_xlabel('Year')\n",
    "ax1.axvline(x=2013, ymin=0.0, ymax=1, color=\"gold\")\n",
    "ax1.plot(avg_nonvbm.index,avg_nonvbm[\"VEP Total Ballots Counted\"],color=\"black\")\n",
    "ax1.plot(voter_data.loc[voter_data[\"State\"]==\"Colorado\",\"Year\"],voter_data.loc[voter_data[\"State\"]==\"Colorado\",\"VEP Total Ballots Counted\"],color=\"red\")\n",
    "ax1.set_yticks(yticks)\n",
    "ax1.set_yticklabels(yticks)\n",
    "ax1.legend([\"Year of VBM Intro\",\"Non-VBM State AVG\",\"Colorado\"],loc=\"upper left\")\n",
    "plt.grid()\n",
    "plt.show()\n",
    "#Incorporate comment or note on chart about Missing data in middle"
   ]
  },
  {
   "cell_type": "code",
   "execution_count": 29,
   "metadata": {},
   "outputs": [
    {
     "data": {
      "image/png": "[encoded data removed]",
      "text/plain": [
       "<Figure size 432x288 with 1 Axes>"
      ]
     },
     "metadata": {
      "needs_background": "light"
     },
     "output_type": "display_data"
    }
   ],
   "source": [
    "#Utah\n",
    "fig4, ax1 = plt.subplots()\n",
    "ax1.set_xticks(years)\n",
    "ax1.set_xticklabels(years,rotation=\"vertical\")\n",
    "ax1.set_title(\"Utah Voter Turnout\")\n",
    "ax1.set_ylabel('Voter Turnout % (EVP)')\n",
    "ax1.set_xlabel('Year')\n",
    "ax1.axvline(x=2013, ymin=0.0, ymax=1, color=\"gold\")\n",
    "ax1.plot(avg_nonvbm.index,avg_nonvbm[\"VEP Total Ballots Counted\"],color=\"black\")\n",
    "ax1.plot(voter_data.loc[voter_data[\"State\"]==\"Utah\",\"Year\"],voter_data.loc[voter_data[\"State\"]==\"Utah\",\"VEP Total Ballots Counted\"],color=\"teal\")\n",
    "ax1.set_yticks(yticks)\n",
    "ax1.set_yticklabels(yticks)\n",
    "ax1.legend([\"Year of VBM Intro\",\"Non-VBM State AVG\",\"Utah\"],loc=\"lower left\")\n",
    "plt.grid()\n",
    "plt.show()"
   ]
  },
  {
   "cell_type": "code",
   "execution_count": 30,
   "metadata": {},
   "outputs": [
    {
     "data": {
      "image/png": "[encoded data removed]",
      "text/plain": [
       "<Figure size 432x288 with 1 Axes>"
      ]
     },
     "metadata": {
      "needs_background": "light"
     },
     "output_type": "display_data"
    }
   ],
   "source": [
    "#Hawaii\n",
    "fig5, ax1 = plt.subplots()\n",
    "ax1.set_xticks(years)\n",
    "ax1.set_xticklabels(years,rotation=\"vertical\")\n",
    "ax1.set_title(\"Hawaii Voter Turnout\")\n",
    "ax1.set_ylabel('Voter Turnout % (EVP)')\n",
    "ax1.set_xlabel('Year')\n",
    "ax1.axvline(x=2019, ymin=0.0, ymax=1, color=\"gold\")\n",
    "ax1.plot(avg_nonvbm.index,avg_nonvbm[\"VEP Total Ballots Counted\"],color=\"black\")\n",
    "ax1.plot(voter_data.loc[voter_data[\"State\"]==\"Hawaii\",\"Year\"],voter_data.loc[voter_data[\"State\"]==\"Hawaii\",\"VEP Total Ballots Counted\"],color=\"purple\")\n",
    "ax1.set_yticks(yticks)\n",
    "ax1.set_yticklabels(yticks)\n",
    "ax1.legend([\"Year of VBM Intro\",\"Non-VBM State AVG\",\"Hawaii\"],loc=\"upper left\")\n",
    "plt.grid()\n",
    "plt.show()"
   ]
  },
  {
   "cell_type": "code",
   "execution_count": 39,
   "metadata": {},
   "outputs": [
    {
     "data": {
      "text/html": [
       "<div>\n",
       "<style scoped>\n",
       "    .dataframe tbody tr th:only-of-type {\n",
       "        vertical-align: middle;\n",
       "    }\n",
       "\n",
       "    .dataframe tbody tr th {\n",
       "        vertical-align: top;\n",
       "    }\n",
       "\n",
       "    .dataframe thead th {\n",
       "        text-align: right;\n",
       "    }\n",
       "</style>\n",
       "<table border=\"1\" class=\"dataframe\">\n",
       "  <thead>\n",
       "    <tr style=\"text-align: right;\">\n",
       "      <th></th>\n",
       "      <th>Column Name</th>\n",
       "      <th>R-Values</th>\n",
       "      <th>R-Squared</th>\n",
       "      <th>Mail-In R-Values</th>\n",
       "      <th>Mail-In R-Squared</th>\n",
       "      <th>In-Person R-Values</th>\n",
       "      <th>In-Person R-Squared</th>\n",
       "    </tr>\n",
       "  </thead>\n",
       "  <tbody>\n",
       "    <tr>\n",
       "      <th>0</th>\n",
       "      <td>VEP Total Ballots Counted</td>\n",
       "      <td>1.000000</td>\n",
       "      <td>1.000000</td>\n",
       "      <td>1.000000</td>\n",
       "      <td>1.000000</td>\n",
       "      <td>1.000000</td>\n",
       "      <td>1.000000</td>\n",
       "    </tr>\n",
       "    <tr>\n",
       "      <th>1</th>\n",
       "      <td>VEP Highest Office</td>\n",
       "      <td>0.999137</td>\n",
       "      <td>0.998275</td>\n",
       "      <td>0.998896</td>\n",
       "      <td>0.997792</td>\n",
       "      <td>0.999241</td>\n",
       "      <td>0.998482</td>\n",
       "    </tr>\n",
       "    <tr>\n",
       "      <th>2</th>\n",
       "      <td>VAP Highest Office</td>\n",
       "      <td>0.986062</td>\n",
       "      <td>0.972318</td>\n",
       "      <td>0.998045</td>\n",
       "      <td>0.996095</td>\n",
       "      <td>0.985140</td>\n",
       "      <td>0.970500</td>\n",
       "    </tr>\n",
       "    <tr>\n",
       "      <th>3</th>\n",
       "      <td>Poverty Rate</td>\n",
       "      <td>-0.256703</td>\n",
       "      <td>0.065896</td>\n",
       "      <td>0.291582</td>\n",
       "      <td>0.085020</td>\n",
       "      <td>-0.306986</td>\n",
       "      <td>0.094240</td>\n",
       "    </tr>\n",
       "    <tr>\n",
       "      <th>4</th>\n",
       "      <td>Pop Rate: White Only</td>\n",
       "      <td>0.203089</td>\n",
       "      <td>0.041245</td>\n",
       "      <td>0.515668</td>\n",
       "      <td>0.265914</td>\n",
       "      <td>0.137922</td>\n",
       "      <td>0.019023</td>\n",
       "    </tr>\n",
       "    <tr>\n",
       "      <th>5</th>\n",
       "      <td>Pop: Native Hawaiian Only</td>\n",
       "      <td>-0.163705</td>\n",
       "      <td>0.026799</td>\n",
       "      <td>-0.582010</td>\n",
       "      <td>0.338736</td>\n",
       "      <td>-0.095430</td>\n",
       "      <td>0.009107</td>\n",
       "    </tr>\n",
       "    <tr>\n",
       "      <th>6</th>\n",
       "      <td>Avg Commute: Solo Auto</td>\n",
       "      <td>0.160913</td>\n",
       "      <td>0.025893</td>\n",
       "      <td>0.329438</td>\n",
       "      <td>0.108529</td>\n",
       "      <td>0.160210</td>\n",
       "      <td>0.025667</td>\n",
       "    </tr>\n",
       "    <tr>\n",
       "      <th>7</th>\n",
       "      <td>Pop Rate: Native Hawaiian Only</td>\n",
       "      <td>-0.158308</td>\n",
       "      <td>0.025061</td>\n",
       "      <td>-0.570865</td>\n",
       "      <td>0.325887</td>\n",
       "      <td>-0.017881</td>\n",
       "      <td>0.000320</td>\n",
       "    </tr>\n",
       "    <tr>\n",
       "      <th>8</th>\n",
       "      <td>Pop Rate: American Indian Only</td>\n",
       "      <td>-0.152861</td>\n",
       "      <td>0.023366</td>\n",
       "      <td>-0.525428</td>\n",
       "      <td>0.276075</td>\n",
       "      <td>-0.050754</td>\n",
       "      <td>0.002576</td>\n",
       "    </tr>\n",
       "    <tr>\n",
       "      <th>9</th>\n",
       "      <td>Highest Office</td>\n",
       "      <td>0.150458</td>\n",
       "      <td>0.022638</td>\n",
       "      <td>0.791623</td>\n",
       "      <td>0.626666</td>\n",
       "      <td>0.125024</td>\n",
       "      <td>0.015631</td>\n",
       "    </tr>\n",
       "    <tr>\n",
       "      <th>10</th>\n",
       "      <td>Median Income</td>\n",
       "      <td>0.147932</td>\n",
       "      <td>0.021884</td>\n",
       "      <td>-0.370048</td>\n",
       "      <td>0.136936</td>\n",
       "      <td>0.193153</td>\n",
       "      <td>0.037308</td>\n",
       "    </tr>\n",
       "    <tr>\n",
       "      <th>11</th>\n",
       "      <td>Total Ballots Counted (Estimate)</td>\n",
       "      <td>0.147867</td>\n",
       "      <td>0.021865</td>\n",
       "      <td>0.787983</td>\n",
       "      <td>0.620918</td>\n",
       "      <td>0.122196</td>\n",
       "      <td>0.014932</td>\n",
       "    </tr>\n",
       "    <tr>\n",
       "      <th>12</th>\n",
       "      <td>Pop Rate: Hispanic Origin</td>\n",
       "      <td>-0.141446</td>\n",
       "      <td>0.020007</td>\n",
       "      <td>-0.516848</td>\n",
       "      <td>0.267132</td>\n",
       "      <td>-0.040144</td>\n",
       "      <td>0.001612</td>\n",
       "    </tr>\n",
       "    <tr>\n",
       "      <th>13</th>\n",
       "      <td>Median Age</td>\n",
       "      <td>0.127912</td>\n",
       "      <td>0.016362</td>\n",
       "      <td>0.186127</td>\n",
       "      <td>0.034643</td>\n",
       "      <td>0.131383</td>\n",
       "      <td>0.017262</td>\n",
       "    </tr>\n",
       "    <tr>\n",
       "      <th>14</th>\n",
       "      <td>Number Families in Poverty</td>\n",
       "      <td>-0.124948</td>\n",
       "      <td>0.015612</td>\n",
       "      <td>0.541355</td>\n",
       "      <td>0.293065</td>\n",
       "      <td>-0.145560</td>\n",
       "      <td>0.021188</td>\n",
       "    </tr>\n",
       "    <tr>\n",
       "      <th>15</th>\n",
       "      <td>Number Poverty</td>\n",
       "      <td>-0.117797</td>\n",
       "      <td>0.013876</td>\n",
       "      <td>0.550411</td>\n",
       "      <td>0.302952</td>\n",
       "      <td>-0.139229</td>\n",
       "      <td>0.019385</td>\n",
       "    </tr>\n",
       "    <tr>\n",
       "      <th>16</th>\n",
       "      <td>ICPSR State Code</td>\n",
       "      <td>-0.115084</td>\n",
       "      <td>0.013244</td>\n",
       "      <td>-0.489633</td>\n",
       "      <td>0.239740</td>\n",
       "      <td>-0.137258</td>\n",
       "      <td>0.018840</td>\n",
       "    </tr>\n",
       "    <tr>\n",
       "      <th>17</th>\n",
       "      <td>Pop Rate: Two or More Races</td>\n",
       "      <td>-0.108007</td>\n",
       "      <td>0.011666</td>\n",
       "      <td>0.431095</td>\n",
       "      <td>0.185843</td>\n",
       "      <td>-0.143741</td>\n",
       "      <td>0.020662</td>\n",
       "    </tr>\n",
       "    <tr>\n",
       "      <th>18</th>\n",
       "      <td>Pop: Hispanic Origin</td>\n",
       "      <td>-0.100596</td>\n",
       "      <td>0.010119</td>\n",
       "      <td>-0.102478</td>\n",
       "      <td>0.010502</td>\n",
       "      <td>-0.105085</td>\n",
       "      <td>0.011043</td>\n",
       "    </tr>\n",
       "    <tr>\n",
       "      <th>19</th>\n",
       "      <td>Transit: Public Transit</td>\n",
       "      <td>-0.098359</td>\n",
       "      <td>0.009675</td>\n",
       "      <td>0.293610</td>\n",
       "      <td>0.086207</td>\n",
       "      <td>-0.108887</td>\n",
       "      <td>0.011856</td>\n",
       "    </tr>\n",
       "    <tr>\n",
       "      <th>20</th>\n",
       "      <td>Pop: American Indian Only</td>\n",
       "      <td>-0.097290</td>\n",
       "      <td>0.009465</td>\n",
       "      <td>-0.246829</td>\n",
       "      <td>0.060924</td>\n",
       "      <td>-0.095788</td>\n",
       "      <td>0.009175</td>\n",
       "    </tr>\n",
       "    <tr>\n",
       "      <th>21</th>\n",
       "      <td>Pop Rate: Black Only</td>\n",
       "      <td>-0.096947</td>\n",
       "      <td>0.009399</td>\n",
       "      <td>0.475695</td>\n",
       "      <td>0.226286</td>\n",
       "      <td>-0.104722</td>\n",
       "      <td>0.010967</td>\n",
       "    </tr>\n",
       "    <tr>\n",
       "      <th>22</th>\n",
       "      <td>Pop: Two or More Races</td>\n",
       "      <td>-0.095133</td>\n",
       "      <td>0.009050</td>\n",
       "      <td>0.557368</td>\n",
       "      <td>0.310659</td>\n",
       "      <td>-0.107715</td>\n",
       "      <td>0.011603</td>\n",
       "    </tr>\n",
       "    <tr>\n",
       "      <th>23</th>\n",
       "      <td>Pop: Black Only</td>\n",
       "      <td>-0.087109</td>\n",
       "      <td>0.007588</td>\n",
       "      <td>0.515246</td>\n",
       "      <td>0.265479</td>\n",
       "      <td>-0.094226</td>\n",
       "      <td>0.008879</td>\n",
       "    </tr>\n",
       "    <tr>\n",
       "      <th>24</th>\n",
       "      <td>Population</td>\n",
       "      <td>-0.084802</td>\n",
       "      <td>0.007191</td>\n",
       "      <td>0.548370</td>\n",
       "      <td>0.300710</td>\n",
       "      <td>-0.107225</td>\n",
       "      <td>0.011497</td>\n",
       "    </tr>\n",
       "    <tr>\n",
       "      <th>25</th>\n",
       "      <td>Voting-Age Population (VAP)</td>\n",
       "      <td>-0.082991</td>\n",
       "      <td>0.006887</td>\n",
       "      <td>0.556663</td>\n",
       "      <td>0.309874</td>\n",
       "      <td>-0.106023</td>\n",
       "      <td>0.011241</td>\n",
       "    </tr>\n",
       "    <tr>\n",
       "      <th>26</th>\n",
       "      <td>Avg Commute: Walking</td>\n",
       "      <td>0.081821</td>\n",
       "      <td>0.006695</td>\n",
       "      <td>-0.147769</td>\n",
       "      <td>0.021836</td>\n",
       "      <td>0.093208</td>\n",
       "      <td>0.008688</td>\n",
       "    </tr>\n",
       "    <tr>\n",
       "      <th>27</th>\n",
       "      <td>Unemployment Rate</td>\n",
       "      <td>-0.081680</td>\n",
       "      <td>0.006672</td>\n",
       "      <td>0.301463</td>\n",
       "      <td>0.090880</td>\n",
       "      <td>-0.124399</td>\n",
       "      <td>0.015475</td>\n",
       "    </tr>\n",
       "    <tr>\n",
       "      <th>28</th>\n",
       "      <td>Voting-Eligible Population (VEP)</td>\n",
       "      <td>-0.081550</td>\n",
       "      <td>0.006650</td>\n",
       "      <td>0.569508</td>\n",
       "      <td>0.324339</td>\n",
       "      <td>-0.106230</td>\n",
       "      <td>0.011285</td>\n",
       "    </tr>\n",
       "    <tr>\n",
       "      <th>29</th>\n",
       "      <td>Number Unemployed</td>\n",
       "      <td>-0.079541</td>\n",
       "      <td>0.006327</td>\n",
       "      <td>0.562669</td>\n",
       "      <td>0.316597</td>\n",
       "      <td>-0.100759</td>\n",
       "      <td>0.010152</td>\n",
       "    </tr>\n",
       "    <tr>\n",
       "      <th>30</th>\n",
       "      <td>Commute Times Combined (auto/public/walking)</td>\n",
       "      <td>-0.078994</td>\n",
       "      <td>0.006240</td>\n",
       "      <td>0.548752</td>\n",
       "      <td>0.301128</td>\n",
       "      <td>-0.102250</td>\n",
       "      <td>0.010455</td>\n",
       "    </tr>\n",
       "    <tr>\n",
       "      <th>31</th>\n",
       "      <td>Transit: Walking</td>\n",
       "      <td>-0.078334</td>\n",
       "      <td>0.006136</td>\n",
       "      <td>0.562954</td>\n",
       "      <td>0.316918</td>\n",
       "      <td>-0.104470</td>\n",
       "      <td>0.010914</td>\n",
       "    </tr>\n",
       "    <tr>\n",
       "      <th>32</th>\n",
       "      <td>Number Employed</td>\n",
       "      <td>-0.075856</td>\n",
       "      <td>0.005754</td>\n",
       "      <td>0.560936</td>\n",
       "      <td>0.314650</td>\n",
       "      <td>-0.099482</td>\n",
       "      <td>0.009897</td>\n",
       "    </tr>\n",
       "    <tr>\n",
       "      <th>33</th>\n",
       "      <td>Transit: Solo Auto</td>\n",
       "      <td>-0.068750</td>\n",
       "      <td>0.004727</td>\n",
       "      <td>0.560975</td>\n",
       "      <td>0.314693</td>\n",
       "      <td>-0.091942</td>\n",
       "      <td>0.008453</td>\n",
       "    </tr>\n",
       "    <tr>\n",
       "      <th>34</th>\n",
       "      <td>Pop: White Only</td>\n",
       "      <td>-0.068430</td>\n",
       "      <td>0.004683</td>\n",
       "      <td>0.596300</td>\n",
       "      <td>0.355574</td>\n",
       "      <td>-0.099482</td>\n",
       "      <td>0.009897</td>\n",
       "    </tr>\n",
       "    <tr>\n",
       "      <th>35</th>\n",
       "      <td>Avg Commute: Public Transit</td>\n",
       "      <td>-0.051506</td>\n",
       "      <td>0.002653</td>\n",
       "      <td>-0.315901</td>\n",
       "      <td>0.099793</td>\n",
       "      <td>-0.046518</td>\n",
       "      <td>0.002164</td>\n",
       "    </tr>\n",
       "    <tr>\n",
       "      <th>36</th>\n",
       "      <td>Alphanumeric State Code</td>\n",
       "      <td>-0.040799</td>\n",
       "      <td>0.001665</td>\n",
       "      <td>-0.003391</td>\n",
       "      <td>0.000011</td>\n",
       "      <td>-0.052205</td>\n",
       "      <td>0.002725</td>\n",
       "    </tr>\n",
       "    <tr>\n",
       "      <th>37</th>\n",
       "      <td>state</td>\n",
       "      <td>-0.038508</td>\n",
       "      <td>0.001483</td>\n",
       "      <td>-0.013118</td>\n",
       "      <td>0.000172</td>\n",
       "      <td>-0.047988</td>\n",
       "      <td>0.002303</td>\n",
       "    </tr>\n",
       "    <tr>\n",
       "      <th>38</th>\n",
       "      <td>Median Gross Rent</td>\n",
       "      <td>-0.016803</td>\n",
       "      <td>0.000282</td>\n",
       "      <td>-0.365765</td>\n",
       "      <td>0.133784</td>\n",
       "      <td>0.021223</td>\n",
       "      <td>0.000450</td>\n",
       "    </tr>\n",
       "    <tr>\n",
       "      <th>39</th>\n",
       "      <td>Median Home Value</td>\n",
       "      <td>0.006199</td>\n",
       "      <td>0.000038</td>\n",
       "      <td>-0.434983</td>\n",
       "      <td>0.189210</td>\n",
       "      <td>0.073405</td>\n",
       "      <td>0.005388</td>\n",
       "    </tr>\n",
       "    <tr>\n",
       "      <th>40</th>\n",
       "      <td>Commute Time: Public Transit</td>\n",
       "      <td>NaN</td>\n",
       "      <td>NaN</td>\n",
       "      <td>NaN</td>\n",
       "      <td>NaN</td>\n",
       "      <td>NaN</td>\n",
       "      <td>NaN</td>\n",
       "    </tr>\n",
       "    <tr>\n",
       "      <th>41</th>\n",
       "      <td>Commute Time: Solo Auto</td>\n",
       "      <td>NaN</td>\n",
       "      <td>NaN</td>\n",
       "      <td>NaN</td>\n",
       "      <td>NaN</td>\n",
       "      <td>NaN</td>\n",
       "      <td>NaN</td>\n",
       "    </tr>\n",
       "    <tr>\n",
       "      <th>42</th>\n",
       "      <td>Commute Time: Walking</td>\n",
       "      <td>NaN</td>\n",
       "      <td>NaN</td>\n",
       "      <td>NaN</td>\n",
       "      <td>NaN</td>\n",
       "      <td>NaN</td>\n",
       "      <td>NaN</td>\n",
       "    </tr>\n",
       "  </tbody>\n",
       "</table>\n",
       "</div>"
      ],
      "text/plain": [
       "                                     Column Name  R-Values  R-Squared  \\\n",
       "0                      VEP Total Ballots Counted  1.000000   1.000000   \n",
       "1                             VEP Highest Office  0.999137   0.998275   \n",
       "2                             VAP Highest Office  0.986062   0.972318   \n",
       "3                                   Poverty Rate -0.256703   0.065896   \n",
       "4                           Pop Rate: White Only  0.203089   0.041245   \n",
       "5                      Pop: Native Hawaiian Only -0.163705   0.026799   \n",
       "6                         Avg Commute: Solo Auto  0.160913   0.025893   \n",
       "7                 Pop Rate: Native Hawaiian Only -0.158308   0.025061   \n",
       "8                 Pop Rate: American Indian Only -0.152861   0.023366   \n",
       "9                                 Highest Office  0.150458   0.022638   \n",
       "10                                 Median Income  0.147932   0.021884   \n",
       "11              Total Ballots Counted (Estimate)  0.147867   0.021865   \n",
       "12                     Pop Rate: Hispanic Origin -0.141446   0.020007   \n",
       "13                                    Median Age  0.127912   0.016362   \n",
       "14                    Number Families in Poverty -0.124948   0.015612   \n",
       "15                                Number Poverty -0.117797   0.013876   \n",
       "16                              ICPSR State Code -0.115084   0.013244   \n",
       "17                   Pop Rate: Two or More Races -0.108007   0.011666   \n",
       "18                          Pop: Hispanic Origin -0.100596   0.010119   \n",
       "19                       Transit: Public Transit -0.098359   0.009675   \n",
       "20                     Pop: American Indian Only -0.097290   0.009465   \n",
       "21                          Pop Rate: Black Only -0.096947   0.009399   \n",
       "22                        Pop: Two or More Races -0.095133   0.009050   \n",
       "23                               Pop: Black Only -0.087109   0.007588   \n",
       "24                                    Population -0.084802   0.007191   \n",
       "25                   Voting-Age Population (VAP) -0.082991   0.006887   \n",
       "26                          Avg Commute: Walking  0.081821   0.006695   \n",
       "27                             Unemployment Rate -0.081680   0.006672   \n",
       "28              Voting-Eligible Population (VEP) -0.081550   0.006650   \n",
       "29                             Number Unemployed -0.079541   0.006327   \n",
       "30  Commute Times Combined (auto/public/walking) -0.078994   0.006240   \n",
       "31                              Transit: Walking -0.078334   0.006136   \n",
       "32                               Number Employed -0.075856   0.005754   \n",
       "33                            Transit: Solo Auto -0.068750   0.004727   \n",
       "34                               Pop: White Only -0.068430   0.004683   \n",
       "35                   Avg Commute: Public Transit -0.051506   0.002653   \n",
       "36                       Alphanumeric State Code -0.040799   0.001665   \n",
       "37                                         state -0.038508   0.001483   \n",
       "38                             Median Gross Rent -0.016803   0.000282   \n",
       "39                             Median Home Value  0.006199   0.000038   \n",
       "40                  Commute Time: Public Transit       NaN        NaN   \n",
       "41                       Commute Time: Solo Auto       NaN        NaN   \n",
       "42                         Commute Time: Walking       NaN        NaN   \n",
       "\n",
       "    Mail-In R-Values  Mail-In R-Squared  In-Person R-Values  \\\n",
       "0           1.000000           1.000000            1.000000   \n",
       "1           0.998896           0.997792            0.999241   \n",
       "2           0.998045           0.996095            0.985140   \n",
       "3           0.291582           0.085020           -0.306986   \n",
       "4           0.515668           0.265914            0.137922   \n",
       "5          -0.582010           0.338736           -0.095430   \n",
       "6           0.329438           0.108529            0.160210   \n",
       "7          -0.570865           0.325887           -0.017881   \n",
       "8          -0.525428           0.276075           -0.050754   \n",
       "9           0.791623           0.626666            0.125024   \n",
       "10         -0.370048           0.136936            0.193153   \n",
       "11          0.787983           0.620918            0.122196   \n",
       "12         -0.516848           0.267132           -0.040144   \n",
       "13          0.186127           0.034643            0.131383   \n",
       "14          0.541355           0.293065           -0.145560   \n",
       "15          0.550411           0.302952           -0.139229   \n",
       "16         -0.489633           0.239740           -0.137258   \n",
       "17          0.431095           0.185843           -0.143741   \n",
       "18         -0.102478           0.010502           -0.105085   \n",
       "19          0.293610           0.086207           -0.108887   \n",
       "20         -0.246829           0.060924           -0.095788   \n",
       "21          0.475695           0.226286           -0.104722   \n",
       "22          0.557368           0.310659           -0.107715   \n",
       "23          0.515246           0.265479           -0.094226   \n",
       "24          0.548370           0.300710           -0.107225   \n",
       "25          0.556663           0.309874           -0.106023   \n",
       "26         -0.147769           0.021836            0.093208   \n",
       "27          0.301463           0.090880           -0.124399   \n",
       "28          0.569508           0.324339           -0.106230   \n",
       "29          0.562669           0.316597           -0.100759   \n",
       "30          0.548752           0.301128           -0.102250   \n",
       "31          0.562954           0.316918           -0.104470   \n",
       "32          0.560936           0.314650           -0.099482   \n",
       "33          0.560975           0.314693           -0.091942   \n",
       "34          0.596300           0.355574           -0.099482   \n",
       "35         -0.315901           0.099793           -0.046518   \n",
       "36         -0.003391           0.000011           -0.052205   \n",
       "37         -0.013118           0.000172           -0.047988   \n",
       "38         -0.365765           0.133784            0.021223   \n",
       "39         -0.434983           0.189210            0.073405   \n",
       "40               NaN                NaN                 NaN   \n",
       "41               NaN                NaN                 NaN   \n",
       "42               NaN                NaN                 NaN   \n",
       "\n",
       "    In-Person R-Squared  \n",
       "0              1.000000  \n",
       "1              0.998482  \n",
       "2              0.970500  \n",
       "3              0.094240  \n",
       "4              0.019023  \n",
       "5              0.009107  \n",
       "6              0.025667  \n",
       "7              0.000320  \n",
       "8              0.002576  \n",
       "9              0.015631  \n",
       "10             0.037308  \n",
       "11             0.014932  \n",
       "12             0.001612  \n",
       "13             0.017262  \n",
       "14             0.021188  \n",
       "15             0.019385  \n",
       "16             0.018840  \n",
       "17             0.020662  \n",
       "18             0.011043  \n",
       "19             0.011856  \n",
       "20             0.009175  \n",
       "21             0.010967  \n",
       "22             0.011603  \n",
       "23             0.008879  \n",
       "24             0.011497  \n",
       "25             0.011241  \n",
       "26             0.008688  \n",
       "27             0.015475  \n",
       "28             0.011285  \n",
       "29             0.010152  \n",
       "30             0.010455  \n",
       "31             0.010914  \n",
       "32             0.009897  \n",
       "33             0.008453  \n",
       "34             0.009897  \n",
       "35             0.002164  \n",
       "36             0.002725  \n",
       "37             0.002303  \n",
       "38             0.000450  \n",
       "39             0.005388  \n",
       "40                  NaN  \n",
       "41                  NaN  \n",
       "42                  NaN  "
      ]
     },
     "execution_count": 39,
     "metadata": {},
     "output_type": "execute_result"
    }
   ],
   "source": [
    "csv = pd.read_csv('joint_data_12_to_16_noformatting.csv')\n",
    "\n",
    "joint_df = pd.DataFrame(csv)\n",
    "joint_df = joint_df.sort_values(['State','Year'])\n",
    "joint_df = joint_df.reset_index(drop=True)\n",
    "joint_df['Commute Times Combined (auto/public/walking)'] = joint_df['Transit: Solo Auto']+joint_df['Transit: Public Transit']+joint_df['Transit: Walking']\n",
    "joint_df['Avg Commute: Solo Auto'] = joint_df['Transit: Solo Auto']/joint_df['Population']\n",
    "joint_df['Avg Commute: Public Transit'] = joint_df['Transit: Public Transit']/joint_df['Population']\n",
    "joint_df['Avg Commute: Walking'] = joint_df['Transit: Walking']/joint_df['Population']\n",
    "\n",
    "float_int_only = joint_df\n",
    "float_int_only = float_int_only.drop(columns=['Year','State'])\n",
    "\n",
    "ballots = float_int_only['VEP Total Ballots Counted']\n",
    "columns = []\n",
    "r_values = []\n",
    "\n",
    "for f in float_int_only:\n",
    "    x_values = float_int_only[f]\n",
    "    y_values = ballots\n",
    "    (slope, intercept, rvalue, pvalue, stderr) = linregress(x_values, y_values)\n",
    "    r_values.append(rvalue)\n",
    "    columns.append(f)\n",
    "\n",
    "    \n",
    "r_value_df = pd.DataFrame({'Column Name':columns,\n",
    "                          'R-Values':r_values})\n",
    "r_value_df['R-Squared'] = r_value_df['R-Values']**2\n",
    "r_value_df = r_value_df.sort_values('R-Squared', ascending=False)\n",
    "mail_in_states = joint_df.loc[(joint_df['State'] == 'Oregon') |\n",
    "                             (joint_df['State'] == 'Washington') |\n",
    "                             (joint_df['State'] == 'Hawaii') |\n",
    "                             (joint_df['State'] == 'Utah') |\n",
    "                             (joint_df['State'] == 'Colorado')]\n",
    "in_person_states = joint_df.loc[(joint_df['State'] != 'Oregon') &\n",
    "                             (joint_df['State'] != 'Washington') &\n",
    "                             (joint_df['State'] != 'Hawaii') &\n",
    "                             (joint_df['State'] != 'Utah') &\n",
    "                             (joint_df['State'] != 'Colorado')]\n",
    "\n",
    "mail_in_float_int_only = mail_in_states\n",
    "mail_in_float_int_only = mail_in_float_int_only.drop(columns=['Year','State'])\n",
    "\n",
    "in_person_float_int_only = in_person_states\n",
    "in_person_float_int_only = in_person_float_int_only.drop(columns=['Year','State'])\n",
    "\n",
    "mail_in_ballots = mail_in_states['VEP Total Ballots Counted']\n",
    "mail_in_columns = []\n",
    "mail_in_r_values = []\n",
    "\n",
    "\n",
    "for m in mail_in_float_int_only:\n",
    "    x_values = mail_in_float_int_only[m]\n",
    "    y_values = mail_in_ballots\n",
    "    (slope, intercept, rvalue, pvalue, stderr) = linregress(x_values, y_values)\n",
    "    mail_in_r_values.append(rvalue)\n",
    "    mail_in_columns.append(m)\n",
    "\n",
    "in_person_ballots = in_person_states['VEP Total Ballots Counted']\n",
    "in_person_columns = []\n",
    "in_person_r_values = []    \n",
    "\n",
    "for i in in_person_float_int_only:\n",
    "    x_values = in_person_float_int_only[i]\n",
    "    y_values = in_person_ballots\n",
    "    (slope, intercept, rvalue, pvalue, stderr) = linregress(x_values, y_values)\n",
    "    in_person_r_values.append(rvalue)\n",
    "    in_person_columns.append(i)\n",
    "\n",
    "vote_type_r_value_df = pd.DataFrame({'Column Name':in_person_columns,\n",
    "                          # NOTE: 'mail_in_r_values' is an analysis of 15 rows of data\n",
    "                          'Mail-In R-Values':mail_in_r_values,\n",
    "                          # NOTE: 'in_person_r_values' is an analysis of 119 rows of data\n",
    "                          'In-Person R-Values':in_person_r_values})\n",
    "vote_type_r_value_df['Mail-In R-Squared'] = vote_type_r_value_df['Mail-In R-Values']**2\n",
    "vote_type_r_value_df['In-Person R-Squared'] = vote_type_r_value_df['In-Person R-Values']**2\n",
    "vote_type_r_value_df = vote_type_r_value_df.sort_values('In-Person R-Squared', ascending=False)\n",
    "total_r_value_df = pd.merge(r_value_df,vote_type_r_value_df,on='Column Name')\n",
    "total_r_value_df = total_r_value_df[['Column Name','R-Values','R-Squared','Mail-In R-Values','Mail-In R-Squared','In-Person R-Values','In-Person R-Squared']]\n",
    "total_r_value_df"
   ]
  },
  {
   "cell_type": "code",
   "execution_count": 40,
   "metadata": {},
   "outputs": [
    {
     "name": "stdout",
     "output_type": "stream",
     "text": [
      "The r-squared is: 0.06589632119337634\n"
     ]
    },
    {
     "data": {
      "image/png": "[encoded data removed]",
      "text/plain": [
       "<Figure size 432x288 with 1 Axes>"
      ]
     },
     "metadata": {
      "needs_background": "light"
     },
     "output_type": "display_data"
    }
   ],
   "source": [
    "x_values = joint_df['Poverty Rate']\n",
    "y_values = joint_df['VEP Total Ballots Counted']\n",
    "(slope, intercept, rvalue, pvalue, stderr) = linregress(x_values, y_values)\n",
    "print(f\"The r-squared is: {rvalue**2}\")\n",
    "regress_values = x_values * slope + intercept\n",
    "line_eq = \"y = \" + str(round(slope,2)) + \"x + \" + str(round(intercept,2))\n",
    "plt.scatter(x_values,y_values)\n",
    "plt.plot(x_values,regress_values,\"r-\")\n",
    "plt.annotate(line_eq,(.14,.75),fontsize=15,color=\"red\")\n",
    "plt.title('Poverty Rate vs. Voter Turnout Rate in All Voting Types States')\n",
    "plt.xlabel('Poverty Rate (%)')\n",
    "plt.ylabel('Voter Turnout Rate (%)')\n",
    "plt.show()"
   ]
  },
  {
   "cell_type": "code",
   "execution_count": 41,
   "metadata": {},
   "outputs": [
    {
     "name": "stdout",
     "output_type": "stream",
     "text": [
      "The r-squared is: 0.09424011250700502\n"
     ]
    },
    {
     "data": {
      "image/png": "[encoded data removed]",
      "text/plain": [
       "<Figure size 432x288 with 1 Axes>"
      ]
     },
     "metadata": {
      "needs_background": "light"
     },
     "output_type": "display_data"
    }
   ],
   "source": [
    "x_values = in_person_float_int_only['Poverty Rate']\n",
    "y_values = in_person_float_int_only['VEP Total Ballots Counted']\n",
    "(slope, intercept, rvalue, pvalue, stderr) = linregress(x_values, y_values)\n",
    "print(f\"The r-squared is: {rvalue**2}\")\n",
    "regress_values = x_values * slope + intercept\n",
    "line_eq = \"y = \" + str(round(slope,2)) + \"x + \" + str(round(intercept,2))\n",
    "plt.scatter(x_values,y_values)\n",
    "plt.plot(x_values,regress_values,\"r-\")\n",
    "plt.annotate(line_eq,(.14,.75),fontsize=15,color=\"red\")\n",
    "plt.title('Poverty Rate vs. Voter Turnout Rate in In-Person Voting States')\n",
    "plt.xlabel('Poverty Rate (%)')\n",
    "plt.ylabel('Voter Turnout Rate (%)')\n",
    "plt.show()"
   ]
  },
  {
   "cell_type": "code",
   "execution_count": 42,
   "metadata": {},
   "outputs": [
    {
     "name": "stdout",
     "output_type": "stream",
     "text": [
      "The r-squared is: 0.08502035069521645\n"
     ]
    },
    {
     "data": {
      "image/png": "[encoded data removed]",
      "text/plain": [
       "<Figure size 432x288 with 1 Axes>"
      ]
     },
     "metadata": {
      "needs_background": "light"
     },
     "output_type": "display_data"
    }
   ],
   "source": [
    "x_values = mail_in_float_int_only['Poverty Rate']\n",
    "y_values = mail_in_float_int_only['VEP Total Ballots Counted']\n",
    "(slope, intercept, rvalue, pvalue, stderr) = linregress(x_values, y_values)\n",
    "print(f\"The r-squared is: {rvalue**2}\")\n",
    "regress_values = x_values * slope + intercept\n",
    "line_eq = \"y = \" + str(round(slope,2)) + \"x + \" + str(round(intercept,2))\n",
    "plt.scatter(x_values,y_values)\n",
    "plt.plot(x_values,regress_values,\"r-\")\n",
    "plt.annotate(line_eq,(.14,.35),fontsize=15,color=\"red\")\n",
    "plt.title('Poverty Rate vs. Voter Turnout Rate in Mail-In Voting States')\n",
    "plt.xlabel('Poverty Rate (%)')\n",
    "plt.ylabel('Voter Turnout Rate (%)')\n",
    "plt.show()"
   ]
  },
  {
   "cell_type": "code",
   "execution_count": null,
   "metadata": {},
   "outputs": [],
   "source": []
  }
 ],
 "metadata": {
  "kernelspec": {
   "display_name": "Python 3",
   "language": "python",
   "name": "python3"
  },
  "language_info": {
   "codemirror_mode": {
    "name": "ipython",
    "version": 3
   },
   "file_extension": ".py",
   "mimetype": "text/x-python",
   "name": "python",
   "nbconvert_exporter": "python",
   "pygments_lexer": "ipython3",
   "version": "3.6.5"
  }
 },
 "nbformat": 4,
 "nbformat_minor": 2
}
